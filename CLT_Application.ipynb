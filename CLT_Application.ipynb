{
  "nbformat": 4,
  "nbformat_minor": 0,
  "metadata": {
    "colab": {
      "provenance": [],
      "authorship_tag": "ABX9TyP4Hg3ccszVPpgs/nFS3TXm",
      "include_colab_link": true
    },
    "kernelspec": {
      "name": "python3",
      "display_name": "Python 3"
    },
    "language_info": {
      "name": "python"
    }
  },
  "cells": [
    {
      "cell_type": "markdown",
      "metadata": {
        "id": "view-in-github",
        "colab_type": "text"
      },
      "source": [
        "<a href=\"https://colab.research.google.com/github/THEABHASHARMA/CASE-STUDIES/blob/main/CLT_Application.ipynb\" target=\"_parent\"><img src=\"https://colab.research.google.com/assets/colab-badge.svg\" alt=\"Open In Colab\"/></a>"
      ]
    },
    {
      "cell_type": "markdown",
      "source": [
        "# Application of CLT on real life dataset"
      ],
      "metadata": {
        "id": "Mc86Df3jF4A0"
      }
    },
    {
      "cell_type": "markdown",
      "source": [
        "Let's apply the central limit theorem to real distribution to see if the distribution of the sample means tends to follow normal distribution or not.\n",
        "\n",
        "We'll take the height dataset, As we know it is already normally distributed, so let's take the sample means and see if they follow normal distribution."
      ],
      "metadata": {
        "id": "L7UPFbFHGBXS"
      }
    },
    {
      "cell_type": "code",
      "source": [
        "!wget --no-check-certificate https://drive.google.com/uc?id=1Mrt008vkE4nVb1zE4f06_rtq70QPfkIo -O weight-height.csv"
      ],
      "metadata": {
        "colab": {
          "base_uri": "https://localhost:8080/"
        },
        "id": "01dkhu6SGGnP",
        "outputId": "e22c5404-d0c6-44f6-9dc6-0fc5bb72c94f"
      },
      "execution_count": 1,
      "outputs": [
        {
          "output_type": "stream",
          "name": "stdout",
          "text": [
            "--2024-04-26 06:29:53--  https://drive.google.com/uc?id=1Mrt008vkE4nVb1zE4f06_rtq70QPfkIo\n",
            "Resolving drive.google.com (drive.google.com)... 142.251.170.101, 142.251.170.139, 142.251.170.138, ...\n",
            "Connecting to drive.google.com (drive.google.com)|142.251.170.101|:443... connected.\n",
            "HTTP request sent, awaiting response... 303 See Other\n",
            "Location: https://drive.usercontent.google.com/download?id=1Mrt008vkE4nVb1zE4f06_rtq70QPfkIo [following]\n",
            "--2024-04-26 06:29:53--  https://drive.usercontent.google.com/download?id=1Mrt008vkE4nVb1zE4f06_rtq70QPfkIo\n",
            "Resolving drive.usercontent.google.com (drive.usercontent.google.com)... 173.194.174.132, 2404:6800:4008:c1b::84\n",
            "Connecting to drive.usercontent.google.com (drive.usercontent.google.com)|173.194.174.132|:443... connected.\n",
            "HTTP request sent, awaiting response... 200 OK\n",
            "Length: 428120 (418K) [application/octet-stream]\n",
            "Saving to: ‘weight-height.csv’\n",
            "\n",
            "weight-height.csv   100%[===================>] 418.09K  --.-KB/s    in 0.005s  \n",
            "\n",
            "2024-04-26 06:29:54 (79.4 MB/s) - ‘weight-height.csv’ saved [428120/428120]\n",
            "\n"
          ]
        }
      ]
    },
    {
      "cell_type": "code",
      "source": [
        "import numpy as np\n",
        "import pandas as pd\n",
        "import seaborn as sns\n",
        "import matplotlib.pyplot as plt\n",
        "from scipy.stats import norm"
      ],
      "metadata": {
        "id": "xKwN-VxrGI3N"
      },
      "execution_count": 2,
      "outputs": []
    },
    {
      "cell_type": "code",
      "source": [
        "df_hw = pd.read_csv('weight-height.csv')\n",
        "df_hw.head()"
      ],
      "metadata": {
        "colab": {
          "base_uri": "https://localhost:8080/",
          "height": 206
        },
        "id": "eUb-OMX0GLGs",
        "outputId": "4a7d47eb-ff7e-42f9-a8c2-d08c0e0230e4"
      },
      "execution_count": 3,
      "outputs": [
        {
          "output_type": "execute_result",
          "data": {
            "text/plain": [
              "  Gender     Height      Weight\n",
              "0   Male  73.847017  241.893563\n",
              "1   Male  68.781904  162.310473\n",
              "2   Male  74.110105  212.740856\n",
              "3   Male  71.730978  220.042470\n",
              "4   Male  69.881796  206.349801"
            ],
            "text/html": [
              "\n",
              "  <div id=\"df-faef39cc-b423-4d63-9dd3-a1fec9a142f6\" class=\"colab-df-container\">\n",
              "    <div>\n",
              "<style scoped>\n",
              "    .dataframe tbody tr th:only-of-type {\n",
              "        vertical-align: middle;\n",
              "    }\n",
              "\n",
              "    .dataframe tbody tr th {\n",
              "        vertical-align: top;\n",
              "    }\n",
              "\n",
              "    .dataframe thead th {\n",
              "        text-align: right;\n",
              "    }\n",
              "</style>\n",
              "<table border=\"1\" class=\"dataframe\">\n",
              "  <thead>\n",
              "    <tr style=\"text-align: right;\">\n",
              "      <th></th>\n",
              "      <th>Gender</th>\n",
              "      <th>Height</th>\n",
              "      <th>Weight</th>\n",
              "    </tr>\n",
              "  </thead>\n",
              "  <tbody>\n",
              "    <tr>\n",
              "      <th>0</th>\n",
              "      <td>Male</td>\n",
              "      <td>73.847017</td>\n",
              "      <td>241.893563</td>\n",
              "    </tr>\n",
              "    <tr>\n",
              "      <th>1</th>\n",
              "      <td>Male</td>\n",
              "      <td>68.781904</td>\n",
              "      <td>162.310473</td>\n",
              "    </tr>\n",
              "    <tr>\n",
              "      <th>2</th>\n",
              "      <td>Male</td>\n",
              "      <td>74.110105</td>\n",
              "      <td>212.740856</td>\n",
              "    </tr>\n",
              "    <tr>\n",
              "      <th>3</th>\n",
              "      <td>Male</td>\n",
              "      <td>71.730978</td>\n",
              "      <td>220.042470</td>\n",
              "    </tr>\n",
              "    <tr>\n",
              "      <th>4</th>\n",
              "      <td>Male</td>\n",
              "      <td>69.881796</td>\n",
              "      <td>206.349801</td>\n",
              "    </tr>\n",
              "  </tbody>\n",
              "</table>\n",
              "</div>\n",
              "    <div class=\"colab-df-buttons\">\n",
              "\n",
              "  <div class=\"colab-df-container\">\n",
              "    <button class=\"colab-df-convert\" onclick=\"convertToInteractive('df-faef39cc-b423-4d63-9dd3-a1fec9a142f6')\"\n",
              "            title=\"Convert this dataframe to an interactive table.\"\n",
              "            style=\"display:none;\">\n",
              "\n",
              "  <svg xmlns=\"http://www.w3.org/2000/svg\" height=\"24px\" viewBox=\"0 -960 960 960\">\n",
              "    <path d=\"M120-120v-720h720v720H120Zm60-500h600v-160H180v160Zm220 220h160v-160H400v160Zm0 220h160v-160H400v160ZM180-400h160v-160H180v160Zm440 0h160v-160H620v160ZM180-180h160v-160H180v160Zm440 0h160v-160H620v160Z\"/>\n",
              "  </svg>\n",
              "    </button>\n",
              "\n",
              "  <style>\n",
              "    .colab-df-container {\n",
              "      display:flex;\n",
              "      gap: 12px;\n",
              "    }\n",
              "\n",
              "    .colab-df-convert {\n",
              "      background-color: #E8F0FE;\n",
              "      border: none;\n",
              "      border-radius: 50%;\n",
              "      cursor: pointer;\n",
              "      display: none;\n",
              "      fill: #1967D2;\n",
              "      height: 32px;\n",
              "      padding: 0 0 0 0;\n",
              "      width: 32px;\n",
              "    }\n",
              "\n",
              "    .colab-df-convert:hover {\n",
              "      background-color: #E2EBFA;\n",
              "      box-shadow: 0px 1px 2px rgba(60, 64, 67, 0.3), 0px 1px 3px 1px rgba(60, 64, 67, 0.15);\n",
              "      fill: #174EA6;\n",
              "    }\n",
              "\n",
              "    .colab-df-buttons div {\n",
              "      margin-bottom: 4px;\n",
              "    }\n",
              "\n",
              "    [theme=dark] .colab-df-convert {\n",
              "      background-color: #3B4455;\n",
              "      fill: #D2E3FC;\n",
              "    }\n",
              "\n",
              "    [theme=dark] .colab-df-convert:hover {\n",
              "      background-color: #434B5C;\n",
              "      box-shadow: 0px 1px 3px 1px rgba(0, 0, 0, 0.15);\n",
              "      filter: drop-shadow(0px 1px 2px rgba(0, 0, 0, 0.3));\n",
              "      fill: #FFFFFF;\n",
              "    }\n",
              "  </style>\n",
              "\n",
              "    <script>\n",
              "      const buttonEl =\n",
              "        document.querySelector('#df-faef39cc-b423-4d63-9dd3-a1fec9a142f6 button.colab-df-convert');\n",
              "      buttonEl.style.display =\n",
              "        google.colab.kernel.accessAllowed ? 'block' : 'none';\n",
              "\n",
              "      async function convertToInteractive(key) {\n",
              "        const element = document.querySelector('#df-faef39cc-b423-4d63-9dd3-a1fec9a142f6');\n",
              "        const dataTable =\n",
              "          await google.colab.kernel.invokeFunction('convertToInteractive',\n",
              "                                                    [key], {});\n",
              "        if (!dataTable) return;\n",
              "\n",
              "        const docLinkHtml = 'Like what you see? Visit the ' +\n",
              "          '<a target=\"_blank\" href=https://colab.research.google.com/notebooks/data_table.ipynb>data table notebook</a>'\n",
              "          + ' to learn more about interactive tables.';\n",
              "        element.innerHTML = '';\n",
              "        dataTable['output_type'] = 'display_data';\n",
              "        await google.colab.output.renderOutput(dataTable, element);\n",
              "        const docLink = document.createElement('div');\n",
              "        docLink.innerHTML = docLinkHtml;\n",
              "        element.appendChild(docLink);\n",
              "      }\n",
              "    </script>\n",
              "  </div>\n",
              "\n",
              "\n",
              "<div id=\"df-b33e3362-d575-4b41-bfc4-eca87fda23a7\">\n",
              "  <button class=\"colab-df-quickchart\" onclick=\"quickchart('df-b33e3362-d575-4b41-bfc4-eca87fda23a7')\"\n",
              "            title=\"Suggest charts\"\n",
              "            style=\"display:none;\">\n",
              "\n",
              "<svg xmlns=\"http://www.w3.org/2000/svg\" height=\"24px\"viewBox=\"0 0 24 24\"\n",
              "     width=\"24px\">\n",
              "    <g>\n",
              "        <path d=\"M19 3H5c-1.1 0-2 .9-2 2v14c0 1.1.9 2 2 2h14c1.1 0 2-.9 2-2V5c0-1.1-.9-2-2-2zM9 17H7v-7h2v7zm4 0h-2V7h2v10zm4 0h-2v-4h2v4z\"/>\n",
              "    </g>\n",
              "</svg>\n",
              "  </button>\n",
              "\n",
              "<style>\n",
              "  .colab-df-quickchart {\n",
              "      --bg-color: #E8F0FE;\n",
              "      --fill-color: #1967D2;\n",
              "      --hover-bg-color: #E2EBFA;\n",
              "      --hover-fill-color: #174EA6;\n",
              "      --disabled-fill-color: #AAA;\n",
              "      --disabled-bg-color: #DDD;\n",
              "  }\n",
              "\n",
              "  [theme=dark] .colab-df-quickchart {\n",
              "      --bg-color: #3B4455;\n",
              "      --fill-color: #D2E3FC;\n",
              "      --hover-bg-color: #434B5C;\n",
              "      --hover-fill-color: #FFFFFF;\n",
              "      --disabled-bg-color: #3B4455;\n",
              "      --disabled-fill-color: #666;\n",
              "  }\n",
              "\n",
              "  .colab-df-quickchart {\n",
              "    background-color: var(--bg-color);\n",
              "    border: none;\n",
              "    border-radius: 50%;\n",
              "    cursor: pointer;\n",
              "    display: none;\n",
              "    fill: var(--fill-color);\n",
              "    height: 32px;\n",
              "    padding: 0;\n",
              "    width: 32px;\n",
              "  }\n",
              "\n",
              "  .colab-df-quickchart:hover {\n",
              "    background-color: var(--hover-bg-color);\n",
              "    box-shadow: 0 1px 2px rgba(60, 64, 67, 0.3), 0 1px 3px 1px rgba(60, 64, 67, 0.15);\n",
              "    fill: var(--button-hover-fill-color);\n",
              "  }\n",
              "\n",
              "  .colab-df-quickchart-complete:disabled,\n",
              "  .colab-df-quickchart-complete:disabled:hover {\n",
              "    background-color: var(--disabled-bg-color);\n",
              "    fill: var(--disabled-fill-color);\n",
              "    box-shadow: none;\n",
              "  }\n",
              "\n",
              "  .colab-df-spinner {\n",
              "    border: 2px solid var(--fill-color);\n",
              "    border-color: transparent;\n",
              "    border-bottom-color: var(--fill-color);\n",
              "    animation:\n",
              "      spin 1s steps(1) infinite;\n",
              "  }\n",
              "\n",
              "  @keyframes spin {\n",
              "    0% {\n",
              "      border-color: transparent;\n",
              "      border-bottom-color: var(--fill-color);\n",
              "      border-left-color: var(--fill-color);\n",
              "    }\n",
              "    20% {\n",
              "      border-color: transparent;\n",
              "      border-left-color: var(--fill-color);\n",
              "      border-top-color: var(--fill-color);\n",
              "    }\n",
              "    30% {\n",
              "      border-color: transparent;\n",
              "      border-left-color: var(--fill-color);\n",
              "      border-top-color: var(--fill-color);\n",
              "      border-right-color: var(--fill-color);\n",
              "    }\n",
              "    40% {\n",
              "      border-color: transparent;\n",
              "      border-right-color: var(--fill-color);\n",
              "      border-top-color: var(--fill-color);\n",
              "    }\n",
              "    60% {\n",
              "      border-color: transparent;\n",
              "      border-right-color: var(--fill-color);\n",
              "    }\n",
              "    80% {\n",
              "      border-color: transparent;\n",
              "      border-right-color: var(--fill-color);\n",
              "      border-bottom-color: var(--fill-color);\n",
              "    }\n",
              "    90% {\n",
              "      border-color: transparent;\n",
              "      border-bottom-color: var(--fill-color);\n",
              "    }\n",
              "  }\n",
              "</style>\n",
              "\n",
              "  <script>\n",
              "    async function quickchart(key) {\n",
              "      const quickchartButtonEl =\n",
              "        document.querySelector('#' + key + ' button');\n",
              "      quickchartButtonEl.disabled = true;  // To prevent multiple clicks.\n",
              "      quickchartButtonEl.classList.add('colab-df-spinner');\n",
              "      try {\n",
              "        const charts = await google.colab.kernel.invokeFunction(\n",
              "            'suggestCharts', [key], {});\n",
              "      } catch (error) {\n",
              "        console.error('Error during call to suggestCharts:', error);\n",
              "      }\n",
              "      quickchartButtonEl.classList.remove('colab-df-spinner');\n",
              "      quickchartButtonEl.classList.add('colab-df-quickchart-complete');\n",
              "    }\n",
              "    (() => {\n",
              "      let quickchartButtonEl =\n",
              "        document.querySelector('#df-b33e3362-d575-4b41-bfc4-eca87fda23a7 button');\n",
              "      quickchartButtonEl.style.display =\n",
              "        google.colab.kernel.accessAllowed ? 'block' : 'none';\n",
              "    })();\n",
              "  </script>\n",
              "</div>\n",
              "\n",
              "    </div>\n",
              "  </div>\n"
            ],
            "application/vnd.google.colaboratory.intrinsic+json": {
              "type": "dataframe",
              "variable_name": "df_hw",
              "summary": "{\n  \"name\": \"df_hw\",\n  \"rows\": 10000,\n  \"fields\": [\n    {\n      \"column\": \"Gender\",\n      \"properties\": {\n        \"dtype\": \"category\",\n        \"num_unique_values\": 2,\n        \"samples\": [\n          \"Female\",\n          \"Male\"\n        ],\n        \"semantic_type\": \"\",\n        \"description\": \"\"\n      }\n    },\n    {\n      \"column\": \"Height\",\n      \"properties\": {\n        \"dtype\": \"number\",\n        \"std\": 3.8475281207732293,\n        \"min\": 54.2631333250971,\n        \"max\": 78.9987423463896,\n        \"num_unique_values\": 10000,\n        \"samples\": [\n          68.6872321923365,\n          68.8293337723017\n        ],\n        \"semantic_type\": \"\",\n        \"description\": \"\"\n      }\n    },\n    {\n      \"column\": \"Weight\",\n      \"properties\": {\n        \"dtype\": \"number\",\n        \"std\": 32.108439006519596,\n        \"min\": 64.700126712753,\n        \"max\": 269.989698505106,\n        \"num_unique_values\": 10000,\n        \"samples\": [\n          173.115812588004,\n          195.162042097346\n        ],\n        \"semantic_type\": \"\",\n        \"description\": \"\"\n      }\n    }\n  ]\n}"
            }
          },
          "metadata": {},
          "execution_count": 3
        }
      ]
    },
    {
      "cell_type": "code",
      "source": [
        "#We are going to work on height column so let's store it in a different dataframe.\n",
        "df_height = df_hw[\"Height\"]"
      ],
      "metadata": {
        "id": "TPYvtxUfGNnZ"
      },
      "execution_count": 4,
      "outputs": []
    },
    {
      "cell_type": "code",
      "source": [
        "sns.histplot(df_height)"
      ],
      "metadata": {
        "colab": {
          "base_uri": "https://localhost:8080/",
          "height": 467
        },
        "id": "vfa-qG20GRkg",
        "outputId": "989d76fc-a0a5-4f78-a0ae-4e4152db770d"
      },
      "execution_count": 5,
      "outputs": [
        {
          "output_type": "execute_result",
          "data": {
            "text/plain": [
              "<Axes: xlabel='Height', ylabel='Count'>"
            ]
          },
          "metadata": {},
          "execution_count": 5
        },
        {
          "output_type": "display_data",
          "data": {
            "text/plain": [
              "<Figure size 640x480 with 1 Axes>"
            ],
            "image/png": "[encoded data removed]"
          },
          "metadata": {}
        }
      ]
    },
    {
      "cell_type": "code",
      "source": [
        "# mean of the entire population\n",
        "mu = df_height.mean()\n",
        "mu"
      ],
      "metadata": {
        "colab": {
          "base_uri": "https://localhost:8080/"
        },
        "id": "rSndowlBGXVg",
        "outputId": "514c7f5c-d050-4ebe-b934-1996a8b0bf4e"
      },
      "execution_count": 6,
      "outputs": [
        {
          "output_type": "execute_result",
          "data": {
            "text/plain": [
              "66.36755975482124"
            ]
          },
          "metadata": {},
          "execution_count": 6
        }
      ]
    },
    {
      "cell_type": "code",
      "source": [
        "sigma = df_height.std()\n",
        "sigma"
      ],
      "metadata": {
        "colab": {
          "base_uri": "https://localhost:8080/"
        },
        "id": "55RZiE3sGawF",
        "outputId": "e47897ae-85ff-4ce6-c230-ccf334fe77d2"
      },
      "execution_count": 7,
      "outputs": [
        {
          "output_type": "execute_result",
          "data": {
            "text/plain": [
              "3.8475281207732293"
            ]
          },
          "metadata": {},
          "execution_count": 7
        }
      ]
    },
    {
      "cell_type": "markdown",
      "source": [
        "We will now randomly select five samples and determine the average height of these samples"
      ],
      "metadata": {
        "id": "PpixdPhJGdrv"
      }
    },
    {
      "cell_type": "markdown",
      "source": [
        "# Sample size = 5"
      ],
      "metadata": {
        "id": "_ncKU5FEGgCB"
      }
    },
    {
      "cell_type": "code",
      "source": [
        "df_height.sample(5)"
      ],
      "metadata": {
        "colab": {
          "base_uri": "https://localhost:8080/"
        },
        "id": "vyca_rzPGhGQ",
        "outputId": "2ec792ad-515c-467a-d075-6c52724ad728"
      },
      "execution_count": 8,
      "outputs": [
        {
          "output_type": "execute_result",
          "data": {
            "text/plain": [
              "7581    65.655525\n",
              "4346    65.888951\n",
              "6122    60.194897\n",
              "5559    67.129880\n",
              "7310    58.722219\n",
              "Name: Height, dtype: float64"
            ]
          },
          "metadata": {},
          "execution_count": 8
        }
      ]
    },
    {
      "cell_type": "code",
      "source": [
        "np.mean(df_height.sample(5))"
      ],
      "metadata": {
        "colab": {
          "base_uri": "https://localhost:8080/"
        },
        "id": "g6OwdV1oGlQZ",
        "outputId": "3208cf44-b7ee-4100-d79a-7a45034a54b3"
      },
      "execution_count": 9,
      "outputs": [
        {
          "output_type": "execute_result",
          "data": {
            "text/plain": [
              "67.57156113725502"
            ]
          },
          "metadata": {},
          "execution_count": 9
        }
      ]
    },
    {
      "cell_type": "markdown",
      "source": [
        "**Observation**\n",
        "\n",
        "We can notice that on running the above code, it is generating 5 different samples every time and the sample mean is also changing with that."
      ],
      "metadata": {
        "id": "afTEdfTfGr7v"
      }
    },
    {
      "cell_type": "markdown",
      "source": [
        "Let's repeat this process 10,000 times so we will get sample means of 10,000 unique samples (size = 5).\n",
        "\n",
        "We will plot the distributions of these 10,000 sample means to see if they follow the normal distribution"
      ],
      "metadata": {
        "id": "XXEyIcQbGuvt"
      }
    },
    {
      "cell_type": "code",
      "source": [
        "sample_5 = [np.mean(df_height.sample(5))for i in range(1000)]"
      ],
      "metadata": {
        "id": "uZFmwF9DG8ht"
      },
      "execution_count": 11,
      "outputs": []
    },
    {
      "cell_type": "code",
      "source": [
        "sns.histplot(sample_5, kde=True)"
      ],
      "metadata": {
        "colab": {
          "base_uri": "https://localhost:8080/",
          "height": 448
        },
        "id": "n4A5P_rDHMKB",
        "outputId": "77ad80ad-47b3-4f71-adb2-908338aa4916"
      },
      "execution_count": 12,
      "outputs": [
        {
          "output_type": "execute_result",
          "data": {
            "text/plain": [
              "<Axes: ylabel='Count'>"
            ]
          },
          "metadata": {},
          "execution_count": 12
        },
        {
          "output_type": "display_data",
          "data": {
            "text/plain": [
              "<Figure size 640x480 with 1 Axes>"
            ],
            "image/png": "[encoded data removed]"
          },
          "metadata": {}
        }
      ]
    },
    {
      "cell_type": "code",
      "source": [
        "np.mean(sample_5)"
      ],
      "metadata": {
        "colab": {
          "base_uri": "https://localhost:8080/"
        },
        "id": "vlC9LmkfHKUx",
        "outputId": "91d9aeb9-4e81-4e2e-baa6-f840f4470b78"
      },
      "execution_count": 13,
      "outputs": [
        {
          "output_type": "execute_result",
          "data": {
            "text/plain": [
              "66.4272687854704"
            ]
          },
          "metadata": {},
          "execution_count": 13
        }
      ]
    },
    {
      "cell_type": "code",
      "source": [
        "np.std(sample_5)"
      ],
      "metadata": {
        "colab": {
          "base_uri": "https://localhost:8080/"
        },
        "id": "FBKus4GzHT8r",
        "outputId": "b46925ef-9fd4-4ede-c7b4-4e96989b59aa"
      },
      "execution_count": 14,
      "outputs": [
        {
          "output_type": "execute_result",
          "data": {
            "text/plain": [
              "1.7125748340095523"
            ]
          },
          "metadata": {},
          "execution_count": 14
        }
      ]
    },
    {
      "cell_type": "markdown",
      "source": [
        "**Observation**\n",
        "\n",
        "1. We can conclude that the distribution of those 10000 samples means is normally distributed and most of the values lies between 62 and 72.\n",
        "\n",
        "2. There might be some cases where the samples contain only short peoples that is why we can see some values between 60 and 62\n",
        "\n",
        "3. Similarly, there might be some cases where the samples contain only tall people that is why we can see some values between 70 and 72"
      ],
      "metadata": {
        "id": "n1yxKZjHHbb1"
      }
    },
    {
      "cell_type": "code",
      "source": [],
      "metadata": {
        "id": "yfqZfxe4Hjzf"
      },
      "execution_count": null,
      "outputs": []
    },
    {
      "cell_type": "markdown",
      "source": [
        "# Sample size = 20"
      ],
      "metadata": {
        "id": "NJZyUIRtHkAS"
      }
    },
    {
      "cell_type": "markdown",
      "source": [
        "As we increase the size of the sample, the spread of data will be less.\n",
        "\n",
        "This means, as we increase the size of the sample, the sample mean will come closer and closer to the population mean\n",
        "Let's try this out.\n",
        "\n",
        "Let's increase the sample size to 20.\n",
        "We will again perform 10,00 iterations and plot the distributions of the sample means"
      ],
      "metadata": {
        "id": "yz8otQJ6HrNM"
      }
    },
    {
      "cell_type": "code",
      "source": [
        "sample_20 = [np.mean(df_height.sample(20)) for i in range(10000) ]"
      ],
      "metadata": {
        "id": "kKgXlz61HuKS"
      },
      "execution_count": 15,
      "outputs": []
    },
    {
      "cell_type": "code",
      "source": [
        "sns.histplot(sample_20, kde= True)"
      ],
      "metadata": {
        "colab": {
          "base_uri": "https://localhost:8080/",
          "height": 448
        },
        "id": "iaTGtH8uH35-",
        "outputId": "3b6cec2d-5d67-42c1-dbaa-eea9e08f4ac8"
      },
      "execution_count": 16,
      "outputs": [
        {
          "output_type": "execute_result",
          "data": {
            "text/plain": [
              "<Axes: ylabel='Count'>"
            ]
          },
          "metadata": {},
          "execution_count": 16
        },
        {
          "output_type": "display_data",
          "data": {
            "text/plain": [
              "<Figure size 640x480 with 1 Axes>"
            ],
            "image/png": "[encoded data removed]"
          },
          "metadata": {}
        }
      ]
    },
    {
      "cell_type": "code",
      "source": [
        "np.mean(sample_20)"
      ],
      "metadata": {
        "colab": {
          "base_uri": "https://localhost:8080/"
        },
        "id": "IIXmVamTH8su",
        "outputId": "8d8bab5f-7288-49c6-8c6b-221ef986077c"
      },
      "execution_count": 17,
      "outputs": [
        {
          "output_type": "execute_result",
          "data": {
            "text/plain": [
              "66.3641101610415"
            ]
          },
          "metadata": {},
          "execution_count": 17
        }
      ]
    },
    {
      "cell_type": "code",
      "source": [
        "np.std(sample_20)"
      ],
      "metadata": {
        "colab": {
          "base_uri": "https://localhost:8080/"
        },
        "id": "J8QF9HVxIAjF",
        "outputId": "0dada7f6-27e2-4c2a-b106-6bff3fb472c3"
      },
      "execution_count": 18,
      "outputs": [
        {
          "output_type": "execute_result",
          "data": {
            "text/plain": [
              "0.855468702441649"
            ]
          },
          "metadata": {},
          "execution_count": 18
        }
      ]
    },
    {
      "cell_type": "markdown",
      "source": [
        "**Observation**\n",
        "\n",
        "# We can clearly see that as we increase the number of samples from 5 to 20, the sample means come closer to the actual mean and the standard deviation becomes less.\n",
        "\n",
        "Previously the majority of the values were between 62 and 72. Now the spread of the data has decreased and values lie between 64 and 69\n",
        "\n",
        "So we can assert that by increasing the size of the sample, the variability or SD of the sample distributions decreases and the sample mean tends to be much closer to the population mean."
      ],
      "metadata": {
        "id": "PkJYONkVIKSQ"
      }
    },
    {
      "cell_type": "markdown",
      "source": [
        "# Comparison of Statistics\n",
        "\n",
        "Let's compare the statistics of population data and sample data to observe some patterns"
      ],
      "metadata": {
        "id": "PbwO9K5wIS75"
      }
    },
    {
      "cell_type": "code",
      "source": [
        "# population mean\n",
        "mu = df_height.mean()\n",
        "\n",
        "# population SD\n",
        "sigma = df_height.std()\n",
        "\n",
        "# mean of sample distributions having sample size = 5\n",
        "mu_5 = np.mean(sample_5)\n",
        "\n",
        "# SD of sample distributions having sample size = 5\n",
        "sigma_5 = np.std(sample_5)\n",
        "\n",
        "# mean of sample distributions having sample size = 20\n",
        "mu_20 = np.mean(sample_20)\n",
        "\n",
        "# SD of sample distributions having sample size = 20\n",
        "sigma_20 = np.std(sample_20)"
      ],
      "metadata": {
        "id": "zzEI7AoDIWjJ"
      },
      "execution_count": 24,
      "outputs": []
    },
    {
      "cell_type": "code",
      "source": [
        "print(mu, mu_5, mu_20)\n",
        "print(sigma, sigma_5, sigma_20)\n"
      ],
      "metadata": {
        "colab": {
          "base_uri": "https://localhost:8080/"
        },
        "id": "XRuDriJKIaet",
        "outputId": "4d9bc860-2eef-416f-ea33-4fd7014f0a87"
      },
      "execution_count": 25,
      "outputs": [
        {
          "output_type": "stream",
          "name": "stdout",
          "text": [
            "66.36755975482124 66.4272687854704 66.3641101610415\n",
            "3.8475281207732293 1.7125748340095523 0.855468702441649\n"
          ]
        }
      ]
    },
    {
      "cell_type": "markdown",
      "source": [
        "# Observation\n",
        "\n",
        "Here,\n",
        "\n",
        "Population Statistics:\n",
        "\n",
        "μ  = population mean\n",
        "σ  = population standard deviation\n",
        "Sample Statistics:\n",
        "\n",
        "μ5  = mean of sample means (from samples of size 5)\n",
        "\n",
        "σ5  = standard deviation of the sample means (from samples of size 5)\n",
        "\n",
        "μ20  = mean of sample means (from samples of size 20)\n",
        "\n",
        "σ20  = standard deviation of the sample means (from samples of size 20)\n",
        "\n",
        "\n",
        "\n",
        "# Mean of the sampling distribution is equal to the mean of the population\n",
        "\n",
        "# μ𝑥¯=μ\n",
        "# As we increase the sample size, the SD of sample means decreases.\n",
        "\n",
        "The SD of sampling distribution ( σ𝑥¯ ) is less than the population SD ( σ ).\n",
        "\n",
        "σ>σ5>σ20\n",
        "\n",
        "\n",
        "This aligns with the CLT, which states that the standard deviation of the sampling distribution ( σ𝑥¯ ) is the standard deviation of the population ( σ ) divided by the square root of the sample size i.e,\n",
        "\n",
        "# known as standard Error.\n",
        "\n",
        "# It indicates that how far my sample mean is from the actual mean."
      ],
      "metadata": {
        "id": "grt86pCuI5nr"
      }
    },
    {
      "cell_type": "code",
      "source": [],
      "metadata": {
        "id": "8fTGFgccJXAZ"
      },
      "execution_count": null,
      "outputs": []
    }
  ]
}