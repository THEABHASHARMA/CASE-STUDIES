{
  "nbformat": 4,
  "nbformat_minor": 0,
  "metadata": {
    "colab": {
      "provenance": [],
      "authorship_tag": "ABX9TyOoFUt6Lkk1TQQ7te2GCAwD",
      "include_colab_link": true
    },
    "kernelspec": {
      "name": "python3",
      "display_name": "Python 3"
    },
    "language_info": {
      "name": "python"
    }
  },
  "cells": [
    {
      "cell_type": "markdown",
      "metadata": {
        "id": "view-in-github",
        "colab_type": "text"
      },
      "source": [
        "<a href=\"https://colab.research.google.com/github/THEABHASHARMA/CASE-STUDIES/blob/main/Match_IQR_case_study.ipynb\" target=\"_parent\"><img src=\"https://colab.research.google.com/assets/colab-badge.svg\" alt=\"Open In Colab\"/></a>"
      ]
    },
    {
      "cell_type": "markdown",
      "source": [
        "# IQR implementation on a real-life dataset and Compare Sehwag's and Dravid's match performace"
      ],
      "metadata": {
        "id": "NFCY88yvFqFx"
      }
    },
    {
      "cell_type": "markdown",
      "source": [
        "# Problem Statement:\n",
        "When we talk about these two players:\n",
        "\n",
        "Sehwag\n",
        "Rahul Dravid\n",
        "We all know that Sehwag has aggressive batting style\n",
        "\n",
        "While Rahul Dravid plays patiently, with no risk and stands on the crease like a \"Wall\"\n",
        "\n",
        "Let's analyse both of their matches and try to find some insights about their range of scores.\n",
        "\n",
        "We will use IQR here to calculate the range of their scores accurately and will also try to find if they have any \"Outlier\" scores in their careers."
      ],
      "metadata": {
        "id": "qY0Un3Q-FVvr"
      }
    },
    {
      "cell_type": "markdown",
      "source": [
        "# We will conclude that out of these two batsman, who is the more consistent batsman?"
      ],
      "metadata": {
        "id": "bJFWyp8gFx1I"
      }
    },
    {
      "cell_type": "code",
      "source": [
        "import numpy as np\n",
        "import pandas as pd\n",
        "import seaborn as sns\n",
        "import matplotlib.pyplot as plt"
      ],
      "metadata": {
        "id": "0xS6T4NQFtNi"
      },
      "execution_count": 1,
      "outputs": []
    },
    {
      "cell_type": "markdown",
      "source": [
        "Let's start with Sehwag's matches"
      ],
      "metadata": {
        "id": "fORaunT2F5Az"
      }
    },
    {
      "cell_type": "code",
      "source": [
        "!wget --no-check-certificate https://drive.google.com/uc?id=1JYyGv7QSb_GkVGan5rnHNrtOg2ewJB_f -O sehwag.csv"
      ],
      "metadata": {
        "colab": {
          "base_uri": "https://localhost:8080/"
        },
        "id": "XIHWAzGIF5lf",
        "outputId": "3143ca65-3fb6-4c1b-ccf9-46b630919788"
      },
      "execution_count": 2,
      "outputs": [
        {
          "output_type": "stream",
          "name": "stdout",
          "text": [
            "--2024-04-25 07:10:54--  https://drive.google.com/uc?id=1JYyGv7QSb_GkVGan5rnHNrtOg2ewJB_f\n",
            "Resolving drive.google.com (drive.google.com)... 172.253.62.101, 172.253.62.102, 172.253.62.139, ...\n",
            "Connecting to drive.google.com (drive.google.com)|172.253.62.101|:443... connected.\n",
            "HTTP request sent, awaiting response... 303 See Other\n",
            "Location: https://drive.usercontent.google.com/download?id=1JYyGv7QSb_GkVGan5rnHNrtOg2ewJB_f [following]\n",
            "--2024-04-25 07:10:54--  https://drive.usercontent.google.com/download?id=1JYyGv7QSb_GkVGan5rnHNrtOg2ewJB_f\n",
            "Resolving drive.usercontent.google.com (drive.usercontent.google.com)... 142.250.31.132, 2607:f8b0:4004:c0b::84\n",
            "Connecting to drive.usercontent.google.com (drive.usercontent.google.com)|142.250.31.132|:443... connected.\n",
            "HTTP request sent, awaiting response... 200 OK\n",
            "Length: 18584 (18K) [application/octet-stream]\n",
            "Saving to: ‘sehwag.csv’\n",
            "\n",
            "sehwag.csv          100%[===================>]  18.15K  --.-KB/s    in 0s      \n",
            "\n",
            "2024-04-25 07:10:55 (67.7 MB/s) - ‘sehwag.csv’ saved [18584/18584]\n",
            "\n"
          ]
        }
      ]
    },
    {
      "cell_type": "code",
      "source": [
        "sehwag = pd.read_csv(\"sehwag.csv\")\n",
        "sehwag.head()"
      ],
      "metadata": {
        "colab": {
          "base_uri": "https://localhost:8080/",
          "height": 206
        },
        "id": "eIl6sWEHF-js",
        "outputId": "7b28f410-075e-4d1a-a489-1c4939f7283d"
      },
      "execution_count": 3,
      "outputs": [
        {
          "output_type": "execute_result",
          "data": {
            "text/plain": [
              "   Runs Mins  BF  4s  6s      SR  Pos Dismissal  Inns  Unnamed: 9  \\\n",
              "0     1    5   2   0   0   50.00    7       lbw     1         NaN   \n",
              "1    19   18  24   0   1   79.16    6    caught     1         NaN   \n",
              "2    58   62  54   8   0  107.40    6    bowled     1         NaN   \n",
              "3     2    7   7   0   0   28.57    6    caught     2         NaN   \n",
              "4    11   19  16   1   0   68.75    6   not out     2         NaN   \n",
              "\n",
              "      Opposition     Ground   Start Date Unnamed: 13  \n",
              "0     v Pakistan     Mohali   1 Apr 1999  ODI # 1427  \n",
              "1     v Zimbabwe     Rajkot  14 Dec 2000  ODI # 1660  \n",
              "2    v Australia  Bengaluru  25 Mar 2001  ODI # 1696  \n",
              "3     v Zimbabwe   Bulawayo  27 Jun 2001  ODI # 1730  \n",
              "4  v West Indies   Bulawayo  30 Jun 2001  ODI # 1731  "
            ],
            "text/html": [
              "\n",
              "  <div id=\"df-82405854-74ac-41a3-b6e6-029934fc5e52\" class=\"colab-df-container\">\n",
              "    <div>\n",
              "<style scoped>\n",
              "    .dataframe tbody tr th:only-of-type {\n",
              "        vertical-align: middle;\n",
              "    }\n",
              "\n",
              "    .dataframe tbody tr th {\n",
              "        vertical-align: top;\n",
              "    }\n",
              "\n",
              "    .dataframe thead th {\n",
              "        text-align: right;\n",
              "    }\n",
              "</style>\n",
              "<table border=\"1\" class=\"dataframe\">\n",
              "  <thead>\n",
              "    <tr style=\"text-align: right;\">\n",
              "      <th></th>\n",
              "      <th>Runs</th>\n",
              "      <th>Mins</th>\n",
              "      <th>BF</th>\n",
              "      <th>4s</th>\n",
              "      <th>6s</th>\n",
              "      <th>SR</th>\n",
              "      <th>Pos</th>\n",
              "      <th>Dismissal</th>\n",
              "      <th>Inns</th>\n",
              "      <th>Unnamed: 9</th>\n",
              "      <th>Opposition</th>\n",
              "      <th>Ground</th>\n",
              "      <th>Start Date</th>\n",
              "      <th>Unnamed: 13</th>\n",
              "    </tr>\n",
              "  </thead>\n",
              "  <tbody>\n",
              "    <tr>\n",
              "      <th>0</th>\n",
              "      <td>1</td>\n",
              "      <td>5</td>\n",
              "      <td>2</td>\n",
              "      <td>0</td>\n",
              "      <td>0</td>\n",
              "      <td>50.00</td>\n",
              "      <td>7</td>\n",
              "      <td>lbw</td>\n",
              "      <td>1</td>\n",
              "      <td>NaN</td>\n",
              "      <td>v Pakistan</td>\n",
              "      <td>Mohali</td>\n",
              "      <td>1 Apr 1999</td>\n",
              "      <td>ODI # 1427</td>\n",
              "    </tr>\n",
              "    <tr>\n",
              "      <th>1</th>\n",
              "      <td>19</td>\n",
              "      <td>18</td>\n",
              "      <td>24</td>\n",
              "      <td>0</td>\n",
              "      <td>1</td>\n",
              "      <td>79.16</td>\n",
              "      <td>6</td>\n",
              "      <td>caught</td>\n",
              "      <td>1</td>\n",
              "      <td>NaN</td>\n",
              "      <td>v Zimbabwe</td>\n",
              "      <td>Rajkot</td>\n",
              "      <td>14 Dec 2000</td>\n",
              "      <td>ODI # 1660</td>\n",
              "    </tr>\n",
              "    <tr>\n",
              "      <th>2</th>\n",
              "      <td>58</td>\n",
              "      <td>62</td>\n",
              "      <td>54</td>\n",
              "      <td>8</td>\n",
              "      <td>0</td>\n",
              "      <td>107.40</td>\n",
              "      <td>6</td>\n",
              "      <td>bowled</td>\n",
              "      <td>1</td>\n",
              "      <td>NaN</td>\n",
              "      <td>v Australia</td>\n",
              "      <td>Bengaluru</td>\n",
              "      <td>25 Mar 2001</td>\n",
              "      <td>ODI # 1696</td>\n",
              "    </tr>\n",
              "    <tr>\n",
              "      <th>3</th>\n",
              "      <td>2</td>\n",
              "      <td>7</td>\n",
              "      <td>7</td>\n",
              "      <td>0</td>\n",
              "      <td>0</td>\n",
              "      <td>28.57</td>\n",
              "      <td>6</td>\n",
              "      <td>caught</td>\n",
              "      <td>2</td>\n",
              "      <td>NaN</td>\n",
              "      <td>v Zimbabwe</td>\n",
              "      <td>Bulawayo</td>\n",
              "      <td>27 Jun 2001</td>\n",
              "      <td>ODI # 1730</td>\n",
              "    </tr>\n",
              "    <tr>\n",
              "      <th>4</th>\n",
              "      <td>11</td>\n",
              "      <td>19</td>\n",
              "      <td>16</td>\n",
              "      <td>1</td>\n",
              "      <td>0</td>\n",
              "      <td>68.75</td>\n",
              "      <td>6</td>\n",
              "      <td>not out</td>\n",
              "      <td>2</td>\n",
              "      <td>NaN</td>\n",
              "      <td>v West Indies</td>\n",
              "      <td>Bulawayo</td>\n",
              "      <td>30 Jun 2001</td>\n",
              "      <td>ODI # 1731</td>\n",
              "    </tr>\n",
              "  </tbody>\n",
              "</table>\n",
              "</div>\n",
              "    <div class=\"colab-df-buttons\">\n",
              "\n",
              "  <div class=\"colab-df-container\">\n",
              "    <button class=\"colab-df-convert\" onclick=\"convertToInteractive('df-82405854-74ac-41a3-b6e6-029934fc5e52')\"\n",
              "            title=\"Convert this dataframe to an interactive table.\"\n",
              "            style=\"display:none;\">\n",
              "\n",
              "  <svg xmlns=\"http://www.w3.org/2000/svg\" height=\"24px\" viewBox=\"0 -960 960 960\">\n",
              "    <path d=\"M120-120v-720h720v720H120Zm60-500h600v-160H180v160Zm220 220h160v-160H400v160Zm0 220h160v-160H400v160ZM180-400h160v-160H180v160Zm440 0h160v-160H620v160ZM180-180h160v-160H180v160Zm440 0h160v-160H620v160Z\"/>\n",
              "  </svg>\n",
              "    </button>\n",
              "\n",
              "  <style>\n",
              "    .colab-df-container {\n",
              "      display:flex;\n",
              "      gap: 12px;\n",
              "    }\n",
              "\n",
              "    .colab-df-convert {\n",
              "      background-color: #E8F0FE;\n",
              "      border: none;\n",
              "      border-radius: 50%;\n",
              "      cursor: pointer;\n",
              "      display: none;\n",
              "      fill: #1967D2;\n",
              "      height: 32px;\n",
              "      padding: 0 0 0 0;\n",
              "      width: 32px;\n",
              "    }\n",
              "\n",
              "    .colab-df-convert:hover {\n",
              "      background-color: #E2EBFA;\n",
              "      box-shadow: 0px 1px 2px rgba(60, 64, 67, 0.3), 0px 1px 3px 1px rgba(60, 64, 67, 0.15);\n",
              "      fill: #174EA6;\n",
              "    }\n",
              "\n",
              "    .colab-df-buttons div {\n",
              "      margin-bottom: 4px;\n",
              "    }\n",
              "\n",
              "    [theme=dark] .colab-df-convert {\n",
              "      background-color: #3B4455;\n",
              "      fill: #D2E3FC;\n",
              "    }\n",
              "\n",
              "    [theme=dark] .colab-df-convert:hover {\n",
              "      background-color: #434B5C;\n",
              "      box-shadow: 0px 1px 3px 1px rgba(0, 0, 0, 0.15);\n",
              "      filter: drop-shadow(0px 1px 2px rgba(0, 0, 0, 0.3));\n",
              "      fill: #FFFFFF;\n",
              "    }\n",
              "  </style>\n",
              "\n",
              "    <script>\n",
              "      const buttonEl =\n",
              "        document.querySelector('#df-82405854-74ac-41a3-b6e6-029934fc5e52 button.colab-df-convert');\n",
              "      buttonEl.style.display =\n",
              "        google.colab.kernel.accessAllowed ? 'block' : 'none';\n",
              "\n",
              "      async function convertToInteractive(key) {\n",
              "        const element = document.querySelector('#df-82405854-74ac-41a3-b6e6-029934fc5e52');\n",
              "        const dataTable =\n",
              "          await google.colab.kernel.invokeFunction('convertToInteractive',\n",
              "                                                    [key], {});\n",
              "        if (!dataTable) return;\n",
              "\n",
              "        const docLinkHtml = 'Like what you see? Visit the ' +\n",
              "          '<a target=\"_blank\" href=https://colab.research.google.com/notebooks/data_table.ipynb>data table notebook</a>'\n",
              "          + ' to learn more about interactive tables.';\n",
              "        element.innerHTML = '';\n",
              "        dataTable['output_type'] = 'display_data';\n",
              "        await google.colab.output.renderOutput(dataTable, element);\n",
              "        const docLink = document.createElement('div');\n",
              "        docLink.innerHTML = docLinkHtml;\n",
              "        element.appendChild(docLink);\n",
              "      }\n",
              "    </script>\n",
              "  </div>\n",
              "\n",
              "\n",
              "<div id=\"df-39461d98-6718-497d-afe5-2193002ee7b0\">\n",
              "  <button class=\"colab-df-quickchart\" onclick=\"quickchart('df-39461d98-6718-497d-afe5-2193002ee7b0')\"\n",
              "            title=\"Suggest charts\"\n",
              "            style=\"display:none;\">\n",
              "\n",
              "<svg xmlns=\"http://www.w3.org/2000/svg\" height=\"24px\"viewBox=\"0 0 24 24\"\n",
              "     width=\"24px\">\n",
              "    <g>\n",
              "        <path d=\"M19 3H5c-1.1 0-2 .9-2 2v14c0 1.1.9 2 2 2h14c1.1 0 2-.9 2-2V5c0-1.1-.9-2-2-2zM9 17H7v-7h2v7zm4 0h-2V7h2v10zm4 0h-2v-4h2v4z\"/>\n",
              "    </g>\n",
              "</svg>\n",
              "  </button>\n",
              "\n",
              "<style>\n",
              "  .colab-df-quickchart {\n",
              "      --bg-color: #E8F0FE;\n",
              "      --fill-color: #1967D2;\n",
              "      --hover-bg-color: #E2EBFA;\n",
              "      --hover-fill-color: #174EA6;\n",
              "      --disabled-fill-color: #AAA;\n",
              "      --disabled-bg-color: #DDD;\n",
              "  }\n",
              "\n",
              "  [theme=dark] .colab-df-quickchart {\n",
              "      --bg-color: #3B4455;\n",
              "      --fill-color: #D2E3FC;\n",
              "      --hover-bg-color: #434B5C;\n",
              "      --hover-fill-color: #FFFFFF;\n",
              "      --disabled-bg-color: #3B4455;\n",
              "      --disabled-fill-color: #666;\n",
              "  }\n",
              "\n",
              "  .colab-df-quickchart {\n",
              "    background-color: var(--bg-color);\n",
              "    border: none;\n",
              "    border-radius: 50%;\n",
              "    cursor: pointer;\n",
              "    display: none;\n",
              "    fill: var(--fill-color);\n",
              "    height: 32px;\n",
              "    padding: 0;\n",
              "    width: 32px;\n",
              "  }\n",
              "\n",
              "  .colab-df-quickchart:hover {\n",
              "    background-color: var(--hover-bg-color);\n",
              "    box-shadow: 0 1px 2px rgba(60, 64, 67, 0.3), 0 1px 3px 1px rgba(60, 64, 67, 0.15);\n",
              "    fill: var(--button-hover-fill-color);\n",
              "  }\n",
              "\n",
              "  .colab-df-quickchart-complete:disabled,\n",
              "  .colab-df-quickchart-complete:disabled:hover {\n",
              "    background-color: var(--disabled-bg-color);\n",
              "    fill: var(--disabled-fill-color);\n",
              "    box-shadow: none;\n",
              "  }\n",
              "\n",
              "  .colab-df-spinner {\n",
              "    border: 2px solid var(--fill-color);\n",
              "    border-color: transparent;\n",
              "    border-bottom-color: var(--fill-color);\n",
              "    animation:\n",
              "      spin 1s steps(1) infinite;\n",
              "  }\n",
              "\n",
              "  @keyframes spin {\n",
              "    0% {\n",
              "      border-color: transparent;\n",
              "      border-bottom-color: var(--fill-color);\n",
              "      border-left-color: var(--fill-color);\n",
              "    }\n",
              "    20% {\n",
              "      border-color: transparent;\n",
              "      border-left-color: var(--fill-color);\n",
              "      border-top-color: var(--fill-color);\n",
              "    }\n",
              "    30% {\n",
              "      border-color: transparent;\n",
              "      border-left-color: var(--fill-color);\n",
              "      border-top-color: var(--fill-color);\n",
              "      border-right-color: var(--fill-color);\n",
              "    }\n",
              "    40% {\n",
              "      border-color: transparent;\n",
              "      border-right-color: var(--fill-color);\n",
              "      border-top-color: var(--fill-color);\n",
              "    }\n",
              "    60% {\n",
              "      border-color: transparent;\n",
              "      border-right-color: var(--fill-color);\n",
              "    }\n",
              "    80% {\n",
              "      border-color: transparent;\n",
              "      border-right-color: var(--fill-color);\n",
              "      border-bottom-color: var(--fill-color);\n",
              "    }\n",
              "    90% {\n",
              "      border-color: transparent;\n",
              "      border-bottom-color: var(--fill-color);\n",
              "    }\n",
              "  }\n",
              "</style>\n",
              "\n",
              "  <script>\n",
              "    async function quickchart(key) {\n",
              "      const quickchartButtonEl =\n",
              "        document.querySelector('#' + key + ' button');\n",
              "      quickchartButtonEl.disabled = true;  // To prevent multiple clicks.\n",
              "      quickchartButtonEl.classList.add('colab-df-spinner');\n",
              "      try {\n",
              "        const charts = await google.colab.kernel.invokeFunction(\n",
              "            'suggestCharts', [key], {});\n",
              "      } catch (error) {\n",
              "        console.error('Error during call to suggestCharts:', error);\n",
              "      }\n",
              "      quickchartButtonEl.classList.remove('colab-df-spinner');\n",
              "      quickchartButtonEl.classList.add('colab-df-quickchart-complete');\n",
              "    }\n",
              "    (() => {\n",
              "      let quickchartButtonEl =\n",
              "        document.querySelector('#df-39461d98-6718-497d-afe5-2193002ee7b0 button');\n",
              "      quickchartButtonEl.style.display =\n",
              "        google.colab.kernel.accessAllowed ? 'block' : 'none';\n",
              "    })();\n",
              "  </script>\n",
              "</div>\n",
              "\n",
              "    </div>\n",
              "  </div>\n"
            ],
            "application/vnd.google.colaboratory.intrinsic+json": {
              "type": "dataframe",
              "variable_name": "sehwag",
              "summary": "{\n  \"name\": \"sehwag\",\n  \"rows\": 245,\n  \"fields\": [\n    {\n      \"column\": \"Runs\",\n      \"properties\": {\n        \"dtype\": \"number\",\n        \"std\": 34,\n        \"min\": 0,\n        \"max\": 219,\n        \"num_unique_values\": 94,\n        \"samples\": [\n          36,\n          16,\n          17\n        ],\n        \"semantic_type\": \"\",\n        \"description\": \"\"\n      }\n    },\n    {\n      \"column\": \"Mins\",\n      \"properties\": {\n        \"dtype\": \"category\",\n        \"num_unique_values\": 101,\n        \"samples\": [\n          \"93\",\n          \"29\",\n          \"21\"\n        ],\n        \"semantic_type\": \"\",\n        \"description\": \"\"\n      }\n    },\n    {\n      \"column\": \"BF\",\n      \"properties\": {\n        \"dtype\": \"number\",\n        \"std\": 29,\n        \"min\": 1,\n        \"max\": 149,\n        \"num_unique_values\": 80,\n        \"samples\": [\n          26,\n          2,\n          32\n        ],\n        \"semantic_type\": \"\",\n        \"description\": \"\"\n      }\n    },\n    {\n      \"column\": \"4s\",\n      \"properties\": {\n        \"dtype\": \"number\",\n        \"std\": 4,\n        \"min\": 0,\n        \"max\": 25,\n        \"num_unique_values\": 21,\n        \"samples\": [\n          0,\n          12,\n          17\n        ],\n        \"semantic_type\": \"\",\n        \"description\": \"\"\n      }\n    },\n    {\n      \"column\": \"6s\",\n      \"properties\": {\n        \"dtype\": \"number\",\n        \"std\": 1,\n        \"min\": 0,\n        \"max\": 7,\n        \"num_unique_values\": 7,\n        \"samples\": [\n          0,\n          1,\n          6\n        ],\n        \"semantic_type\": \"\",\n        \"description\": \"\"\n      }\n    },\n    {\n      \"column\": \"SR\",\n      \"properties\": {\n        \"dtype\": \"number\",\n        \"std\": 46.83071593364564,\n        \"min\": 0.0,\n        \"max\": 260.0,\n        \"num_unique_values\": 170,\n        \"samples\": [\n          168.91,\n          121.15,\n          87.75\n        ],\n        \"semantic_type\": \"\",\n        \"description\": \"\"\n      }\n    },\n    {\n      \"column\": \"Pos\",\n      \"properties\": {\n        \"dtype\": \"number\",\n        \"std\": 1,\n        \"min\": 1,\n        \"max\": 8,\n        \"num_unique_values\": 8,\n        \"samples\": [\n          6,\n          2,\n          7\n        ],\n        \"semantic_type\": \"\",\n        \"description\": \"\"\n      }\n    },\n    {\n      \"column\": \"Dismissal\",\n      \"properties\": {\n        \"dtype\": \"category\",\n        \"num_unique_values\": 6,\n        \"samples\": [\n          \"lbw\",\n          \"caught\",\n          \"run out\"\n        ],\n        \"semantic_type\": \"\",\n        \"description\": \"\"\n      }\n    },\n    {\n      \"column\": \"Inns\",\n      \"properties\": {\n        \"dtype\": \"number\",\n        \"std\": 0,\n        \"min\": 1,\n        \"max\": 2,\n        \"num_unique_values\": 2,\n        \"samples\": [\n          2,\n          1\n        ],\n        \"semantic_type\": \"\",\n        \"description\": \"\"\n      }\n    },\n    {\n      \"column\": \"Unnamed: 9\",\n      \"properties\": {\n        \"dtype\": \"number\",\n        \"std\": null,\n        \"min\": null,\n        \"max\": null,\n        \"num_unique_values\": 0,\n        \"samples\": [],\n        \"semantic_type\": \"\",\n        \"description\": \"\"\n      }\n    },\n    {\n      \"column\": \"Opposition\",\n      \"properties\": {\n        \"dtype\": \"category\",\n        \"num_unique_values\": 18,\n        \"samples\": [],\n        \"semantic_type\": \"\",\n        \"description\": \"\"\n      }\n    },\n    {\n      \"column\": \"Ground\",\n      \"properties\": {\n        \"dtype\": \"category\",\n        \"num_unique_values\": 74,\n        \"samples\": [],\n        \"semantic_type\": \"\",\n        \"description\": \"\"\n      }\n    },\n    {\n      \"column\": \"Start Date\",\n      \"properties\": {\n        \"dtype\": \"object\",\n        \"num_unique_values\": 245,\n        \"samples\": [],\n        \"semantic_type\": \"\",\n        \"description\": \"\"\n      }\n    },\n    {\n      \"column\": \"Unnamed: 13\",\n      \"properties\": {\n        \"dtype\": \"string\",\n        \"num_unique_values\": 245,\n        \"samples\": [],\n        \"semantic_type\": \"\",\n        \"description\": \"\"\n      }\n    }\n  ]\n}"
            }
          },
          "metadata": {},
          "execution_count": 3
        }
      ]
    },
    {
      "cell_type": "code",
      "source": [
        "sehwag[\"Runs\"].describe()"
      ],
      "metadata": {
        "colab": {
          "base_uri": "https://localhost:8080/"
        },
        "id": "SVSTIUYSGIUd",
        "outputId": "9013c611-051f-4160-ebeb-85a09de7609b"
      },
      "execution_count": 4,
      "outputs": [
        {
          "output_type": "execute_result",
          "data": {
            "text/plain": [
              "count    245.000000\n",
              "mean      33.767347\n",
              "std       34.809419\n",
              "min        0.000000\n",
              "25%        8.000000\n",
              "50%       23.000000\n",
              "75%       46.000000\n",
              "max      219.000000\n",
              "Name: Runs, dtype: float64"
            ]
          },
          "metadata": {},
          "execution_count": 4
        }
      ]
    },
    {
      "cell_type": "markdown",
      "source": [
        "We want to find the range of his scores"
      ],
      "metadata": {
        "id": "nvA0KjXMGNgO"
      }
    },
    {
      "cell_type": "code",
      "source": [
        "# So Q1, Q2 and Q3 will be\n",
        "# 25th percentile or Q1\n",
        "p_25 = np.percentile(sehwag[\"Runs\"], 25)\n",
        "\n",
        "#50th percentile or Q2, also \"Median\"\n",
        "p_50 = np.percentile(sehwag[\"Runs\"], 50)\n",
        "\n",
        "\n",
        "#75th percentile or Q3\n",
        "p_75 = np.percentile(sehwag[\"Runs\"], 75)\n",
        "print(p_25, p_50, p_75)"
      ],
      "metadata": {
        "colab": {
          "base_uri": "https://localhost:8080/"
        },
        "id": "tir13zHFGMzN",
        "outputId": "3169bfae-3261-48d7-9225-62b076262108"
      },
      "execution_count": 6,
      "outputs": [
        {
          "output_type": "stream",
          "name": "stdout",
          "text": [
            "8.0 23.0 46.0\n"
          ]
        }
      ]
    },
    {
      "cell_type": "markdown",
      "source": [
        "# P_25 = 8.0\n",
        "This value indicates that 25% of all the values present in the dataset for Sehwag's run is less than 8\n",
        "\n",
        "We can also say,\n",
        "\n",
        "Out of all the matches that Shewag played, in 25% of those matches, he scored less than 8 runs.\n",
        "\n",
        "# P_50 = 23.0\n",
        "\n",
        "This indicates that in 50% of the matches, he scored less than 23 runs\n",
        "\n",
        "# P_75=46.0\n",
        "\n",
        "This indicates that in 75% of the matches, he scored less than 46 runs"
      ],
      "metadata": {
        "id": "Qz3UCVf8GiIz"
      }
    },
    {
      "cell_type": "markdown",
      "source": [
        "# IQR\n",
        "\n",
        "We know IQR = Q3 - Q1"
      ],
      "metadata": {
        "id": "1cfjM_mMG4Ds"
      }
    },
    {
      "cell_type": "code",
      "source": [
        "# Inter Quartile Range\n",
        "iqr_sehwag = p_75 - p_25\n",
        "iqr_sehwag"
      ],
      "metadata": {
        "colab": {
          "base_uri": "https://localhost:8080/"
        },
        "id": "deOluyBvG1nL",
        "outputId": "ef8a5af4-5b9b-4fe6-c262-a042f01de0a2"
      },
      "execution_count": 7,
      "outputs": [
        {
          "output_type": "execute_result",
          "data": {
            "text/plain": [
              "38.0"
            ]
          },
          "metadata": {},
          "execution_count": 7
        }
      ]
    },
    {
      "cell_type": "code",
      "source": [
        "normal_range = (sehwag[\"Runs\"].max() - sehwag[\"Runs\"].min())\n",
        "\n",
        "normal_range"
      ],
      "metadata": {
        "colab": {
          "base_uri": "https://localhost:8080/"
        },
        "id": "wQV3R5XwHCj2",
        "outputId": "f1c161d9-c15e-4c66-84c0-5e177e0eed32"
      },
      "execution_count": 8,
      "outputs": [
        {
          "output_type": "execute_result",
          "data": {
            "text/plain": [
              "219"
            ]
          },
          "metadata": {},
          "execution_count": 8
        }
      ]
    },
    {
      "cell_type": "markdown",
      "source": [
        "We can observe the difference here,\n",
        "\n",
        "IQR is 38 which means that middle 50% of the data lies in the range of 38.\n",
        "\n",
        "So more than 50% of the time, Sehwag scores in the range of 38 runs\n",
        "\n",
        "\n",
        "On the other hand, the normal range is very high i.e. 219 which is certainly not a good range to consider.\n",
        "\n",
        "We can observe one thing that there in an Outlier present in the data means in some matches he has scored so many runs like more than 300 in a single match\n",
        "\n",
        "This is why the range is getting affected by the outlier\n",
        "\n"
      ],
      "metadata": {
        "id": "QBhpsIHJHRII"
      }
    },
    {
      "cell_type": "markdown",
      "source": [
        "# Let's plot the box plot to visualise the spread of the data"
      ],
      "metadata": {
        "id": "pyuEBMvDHTNi"
      }
    },
    {
      "cell_type": "code",
      "source": [
        "sns.boxplot(data=sehwag[\"Runs\"], orient=\"h\")"
      ],
      "metadata": {
        "colab": {
          "base_uri": "https://localhost:8080/",
          "height": 467
        },
        "id": "zaOsRkfbHULc",
        "outputId": "4882d81d-86e6-48b6-d424-d2cace164fa7"
      },
      "execution_count": 12,
      "outputs": [
        {
          "output_type": "execute_result",
          "data": {
            "text/plain": [
              "<Axes: xlabel='Runs'>"
            ]
          },
          "metadata": {},
          "execution_count": 12
        },
        {
          "output_type": "display_data",
          "data": {
            "text/plain": [
              "<Figure size 640x480 with 1 Axes>"
            ],
            "image/png": "[encoded data removed]"
          },
          "metadata": {}
        }
      ]
    },
    {
      "cell_type": "markdown",
      "source": [
        "We can see that Q1, Q2, and Q3 values lie within the box and we can also see whiskers on both the sides of box which is the limit.\n",
        "\n",
        "We already saw how to calculate the lower whisker and upper whisker\n",
        "\n",
        "All the values outside the limit are considered \"Outlier\""
      ],
      "metadata": {
        "id": "MFEMV9MZHhO4"
      }
    },
    {
      "cell_type": "code",
      "source": [
        "# upper limit = Q3 + 1.5 * IQR\n",
        "\n",
        "upper = 46 + 1.5*(iqr_sehwag)\n",
        "upper"
      ],
      "metadata": {
        "colab": {
          "base_uri": "https://localhost:8080/"
        },
        "id": "x0hDlJyOHkXr",
        "outputId": "94243b60-f5c7-4ee4-c443-b0ea088f9560"
      },
      "execution_count": 14,
      "outputs": [
        {
          "output_type": "execute_result",
          "data": {
            "text/plain": [
              "103.0"
            ]
          },
          "metadata": {},
          "execution_count": 14
        }
      ]
    },
    {
      "cell_type": "markdown",
      "source": [
        "# Note:\n",
        "\n",
        "Here, we cannot have values on the left side of the lower whisker as the batsman cannot score less than 0 runs.\n",
        "\n",
        "So all the outliers will be present on the right side of the upper whisker"
      ],
      "metadata": {
        "id": "Q70AP1xoHqh7"
      }
    },
    {
      "cell_type": "code",
      "source": [
        "# all the values greater than upper is outlier\n",
        "outliers_sehwag = sehwag[sehwag[\"Runs\"]>upper]\n",
        "len(outliers_sehwag)"
      ],
      "metadata": {
        "colab": {
          "base_uri": "https://localhost:8080/"
        },
        "id": "6DZIi10nHyAE",
        "outputId": "2b2b4b76-c5c3-4e8f-c9cf-9dfc6c8d5a2e"
      },
      "execution_count": 29,
      "outputs": [
        {
          "output_type": "execute_result",
          "data": {
            "text/plain": [
              "14"
            ]
          },
          "metadata": {},
          "execution_count": 29
        }
      ]
    },
    {
      "cell_type": "code",
      "source": [
        "\n",
        "len(outliers_sehwag)/len(sehwag[\"Runs\"])"
      ],
      "metadata": {
        "colab": {
          "base_uri": "https://localhost:8080/"
        },
        "id": "422TwplUH6ko",
        "outputId": "dd805a46-aca8-413c-e7a8-38a193146930"
      },
      "execution_count": 32,
      "outputs": [
        {
          "output_type": "execute_result",
          "data": {
            "text/plain": [
              "0.05714285714285714"
            ]
          },
          "metadata": {},
          "execution_count": 32
        }
      ]
    },
    {
      "cell_type": "markdown",
      "source": [
        "# Conclusion:\n",
        "\n",
        "Here we can observe that 5.7% values from the dataset are outliers.\n",
        "\n",
        "This means we can conclude that 5.7 or ~6% times Sehwag has scored more than the UPPER LIMIT which is 103.0 runs"
      ],
      "metadata": {
        "id": "pi2uaJWEMTxW"
      }
    },
    {
      "cell_type": "markdown",
      "source": [
        "# Now let's have a same process into Dravid's stats"
      ],
      "metadata": {
        "id": "RkHLb8UAMigk"
      }
    },
    {
      "cell_type": "code",
      "source": [
        "!wget --no-check-certificate https://drive.google.com/uc?id=1nrKmOYQNiTqFhMIoAwE00ULKhGhMEVMZ -O dravid.csv"
      ],
      "metadata": {
        "colab": {
          "base_uri": "https://localhost:8080/"
        },
        "id": "BCQJWsliMrPu",
        "outputId": "5b68812a-c4cf-40e0-848c-ae20a341965d"
      },
      "execution_count": 33,
      "outputs": [
        {
          "output_type": "stream",
          "name": "stdout",
          "text": [
            "--2024-04-25 07:40:21--  https://drive.google.com/uc?id=1nrKmOYQNiTqFhMIoAwE00ULKhGhMEVMZ\n",
            "Resolving drive.google.com (drive.google.com)... 142.251.167.100, 142.251.167.138, 142.251.167.113, ...\n",
            "Connecting to drive.google.com (drive.google.com)|142.251.167.100|:443... connected.\n",
            "HTTP request sent, awaiting response... 303 See Other\n",
            "Location: https://drive.usercontent.google.com/download?id=1nrKmOYQNiTqFhMIoAwE00ULKhGhMEVMZ [following]\n",
            "--2024-04-25 07:40:21--  https://drive.usercontent.google.com/download?id=1nrKmOYQNiTqFhMIoAwE00ULKhGhMEVMZ\n",
            "Resolving drive.usercontent.google.com (drive.usercontent.google.com)... 142.250.31.132, 2607:f8b0:4004:c0b::84\n",
            "Connecting to drive.usercontent.google.com (drive.usercontent.google.com)|142.250.31.132|:443... connected.\n",
            "HTTP request sent, awaiting response... 200 OK\n",
            "Length: 24177 (24K) [application/octet-stream]\n",
            "Saving to: ‘dravid.csv’\n",
            "\n",
            "dravid.csv          100%[===================>]  23.61K  --.-KB/s    in 0s      \n",
            "\n",
            "2024-04-25 07:40:22 (101 MB/s) - ‘dravid.csv’ saved [24177/24177]\n",
            "\n"
          ]
        }
      ]
    },
    {
      "cell_type": "code",
      "source": [
        "dravid = pd.read_csv(\"dravid.csv\")"
      ],
      "metadata": {
        "id": "7oVLNjopMthy"
      },
      "execution_count": 34,
      "outputs": []
    },
    {
      "cell_type": "code",
      "source": [
        "dravid[\"Runs\"].describe()"
      ],
      "metadata": {
        "colab": {
          "base_uri": "https://localhost:8080/"
        },
        "id": "a3RWZfLYMv3y",
        "outputId": "d0b61aad-13a5-4113-8a69-ecc20a3a35e5"
      },
      "execution_count": 35,
      "outputs": [
        {
          "output_type": "execute_result",
          "data": {
            "text/plain": [
              "count    318.000000\n",
              "mean      34.242138\n",
              "std       29.681822\n",
              "min        0.000000\n",
              "25%       10.000000\n",
              "50%       26.000000\n",
              "75%       54.000000\n",
              "max      153.000000\n",
              "Name: Runs, dtype: float64"
            ]
          },
          "metadata": {},
          "execution_count": 35
        }
      ]
    },
    {
      "cell_type": "code",
      "source": [
        "#25th percentile or Q1\n",
        "per_25 = np.percentile(dravid[\"Runs\"], 25)\n",
        "\n",
        "\n",
        "#50th percentile or Q2 , also \"Median\"\n",
        "per_50 = np.percentile(dravid[\"Runs\"], 50)\n",
        "\n",
        "\n",
        "#75th percentile or Q3\n",
        "per_75 = np.percentile(dravid[\"Runs\"], 75)\n",
        "per_75\n",
        "\n",
        "print(p_25,p_50,p_75)"
      ],
      "metadata": {
        "colab": {
          "base_uri": "https://localhost:8080/"
        },
        "id": "hojHR0TBMyF-",
        "outputId": "48315809-1246-4e38-db63-f68fa90fba9a"
      },
      "execution_count": 37,
      "outputs": [
        {
          "output_type": "stream",
          "name": "stdout",
          "text": [
            "8.0 23.0 46.0\n"
          ]
        }
      ]
    },
    {
      "cell_type": "markdown",
      "source": [
        "# p_25\n",
        "This indicates that in 25% of the matches, he scored less than 10 runs\n",
        "\n",
        "# p_50\n",
        "This indicates that in 50% of the matches, he scored less than 26 runs\n",
        "\n",
        "# p_75\n",
        "This indicates that in 75% of the matches, he scored less than 54 runs"
      ],
      "metadata": {
        "id": "ZcRw0UXgM5-d"
      }
    },
    {
      "cell_type": "markdown",
      "source": [
        "# IQR"
      ],
      "metadata": {
        "id": "GoD-ek6uNEzH"
      }
    },
    {
      "cell_type": "code",
      "source": [
        "# Inter Quartile Range\n",
        "iqr_dravid = per_75 - per_25\n",
        "iqr_dravid"
      ],
      "metadata": {
        "colab": {
          "base_uri": "https://localhost:8080/"
        },
        "id": "8GDWJjXEND2M",
        "outputId": "8adc6248-d9c4-4e84-eccd-fb5a041f9062"
      },
      "execution_count": 38,
      "outputs": [
        {
          "output_type": "execute_result",
          "data": {
            "text/plain": [
              "44.0"
            ]
          },
          "metadata": {},
          "execution_count": 38
        }
      ]
    },
    {
      "cell_type": "code",
      "source": [
        "normal_range = (dravid[\"Runs\"].max() - dravid[\"Runs\"].min())\n",
        "\n",
        "normal_range"
      ],
      "metadata": {
        "colab": {
          "base_uri": "https://localhost:8080/"
        },
        "id": "7_x1SKTHNJuw",
        "outputId": "a570e631-b308-41fa-bb62-d3b32a80dbf1"
      },
      "execution_count": 39,
      "outputs": [
        {
          "output_type": "execute_result",
          "data": {
            "text/plain": [
              "153"
            ]
          },
          "metadata": {},
          "execution_count": 39
        }
      ]
    },
    {
      "cell_type": "markdown",
      "source": [
        "We can observe the difference here,\n",
        "\n",
        "IQR is 44 which means that middle 50% of the data lies in the range of 44.\n",
        "\n",
        "So more than 50% of the time, David scores in the range of 44 runs\n",
        "\n",
        "On the other hand, the normal range is very high i.e. 153 which is certainly not a good range to consider.\n",
        "\n",
        "\n",
        "This is why the range is getting affected by the outlier"
      ],
      "metadata": {
        "id": "UqC9VWT8OID0"
      }
    },
    {
      "cell_type": "markdown",
      "source": [
        "# BOXPLOT"
      ],
      "metadata": {
        "id": "RjQkZM_zOTB5"
      }
    },
    {
      "cell_type": "code",
      "source": [
        " sns.boxplot(data=dravid[\"Runs\"], orient=\"h\")"
      ],
      "metadata": {
        "colab": {
          "base_uri": "https://localhost:8080/",
          "height": 467
        },
        "id": "BtZFsxzHNMDN",
        "outputId": "a67fb5d9-7314-45d1-dc54-61af41a181a5"
      },
      "execution_count": 40,
      "outputs": [
        {
          "output_type": "execute_result",
          "data": {
            "text/plain": [
              "<Axes: xlabel='Runs'>"
            ]
          },
          "metadata": {},
          "execution_count": 40
        },
        {
          "output_type": "display_data",
          "data": {
            "text/plain": [
              "<Figure size 640x480 with 1 Axes>"
            ],
            "image/png": "[encoded data removed]"
          },
          "metadata": {}
        }
      ]
    },
    {
      "cell_type": "code",
      "source": [
        "# upper limit = Q3 + 1.5 * IQR\n",
        "\n",
        "upper_dravid = per_75 + 1.5*(iqr_dravid)\n",
        "upper_dravid"
      ],
      "metadata": {
        "colab": {
          "base_uri": "https://localhost:8080/"
        },
        "id": "Av2skO9_NOQ3",
        "outputId": "5a79206c-786b-4702-f0d1-c00ce0f3ff15"
      },
      "execution_count": 41,
      "outputs": [
        {
          "output_type": "execute_result",
          "data": {
            "text/plain": [
              "120.0"
            ]
          },
          "metadata": {},
          "execution_count": 41
        }
      ]
    },
    {
      "cell_type": "code",
      "source": [
        "# all the values greater than upper is outlier\n",
        "outliers_dravid = dravid[dravid[\"Runs\"]>upper_dravid]\n",
        "len(outliers_dravid)/len(dravid)"
      ],
      "metadata": {
        "colab": {
          "base_uri": "https://localhost:8080/"
        },
        "id": "rgQAYunPNQX_",
        "outputId": "70c0408d-1d84-49ed-e7ce-81233e6bf7d5"
      },
      "execution_count": 42,
      "outputs": [
        {
          "output_type": "execute_result",
          "data": {
            "text/plain": [
              "0.009433962264150943"
            ]
          },
          "metadata": {},
          "execution_count": 42
        }
      ]
    },
    {
      "cell_type": "markdown",
      "source": [
        "# Conclusion\n",
        "Here we can observe that 0.9% values from the dataset are outliers.\n",
        "\n",
        "This means we can conclude that 0.9% times Dravid has scored more than the IQR which is 44 runs\n",
        "\n",
        "\n",
        "So we can conclude that in Sehwag case there is 6% outliers and in Dravid's case there are only 0.9% outliers\n",
        "\n",
        "# which shows that \"**Dravid was more consistent than Sehwag\"**\n",
        "\n"
      ],
      "metadata": {
        "id": "XYQ3hegENXRq"
      }
    },
    {
      "cell_type": "markdown",
      "source": [
        "# Now let's calculate the standard deviation through which we can measure the amount of variation or dispersion in runs scored by Sachin and Dravid-"
      ],
      "metadata": {
        "id": "KQOMOkg7NkBD"
      }
    },
    {
      "cell_type": "code",
      "source": [
        "std_dev_sehwag = np.std(sehwag[\"Runs\"])\n",
        "\n",
        "print(\"The amount of variations in runs scored by sehwag is:\",std_dev_sehwag)"
      ],
      "metadata": {
        "colab": {
          "base_uri": "https://localhost:8080/"
        },
        "id": "8faqHDoQNoDa",
        "outputId": "74ba15a2-ebca-406b-bdd7-732bb9fb784b"
      },
      "execution_count": 44,
      "outputs": [
        {
          "output_type": "stream",
          "name": "stdout",
          "text": [
            "The amount of variations in runs scored by sehwag is: 34.73830672594385\n"
          ]
        }
      ]
    },
    {
      "cell_type": "code",
      "source": [
        "std_dev_dravid = np.std(dravid[\"Runs\"])\n",
        "\n",
        "print(\"The amount of variations in runs scored by dravid is:\",std_dev_dravid)"
      ],
      "metadata": {
        "id": "A368tjvqNuso"
      },
      "execution_count": null,
      "outputs": []
    },
    {
      "cell_type": "markdown",
      "source": [
        "Lower standard deviation indicates less variability in the batsman's performance.\n",
        "\n",
        "For Sehwag:\n",
        "\n",
        "Standard Deviation of Runs: 34.74.\n",
        "For Dravid:\n",
        "\n",
        "Standard Deviation of Runs: 29.64"
      ],
      "metadata": {
        "id": "ya8pdhg3NyXy"
      }
    },
    {
      "cell_type": "markdown",
      "source": [
        "# Conclusion:\n",
        "\n",
        "Dravid has a lower standard deviation compared to Sehwag.\n",
        "\n",
        "This suggests that Dravid's run scores are more consistent or less variable than Sehwag's.\n",
        "\n",
        "In other words, Dravid tends to have a more stable performance in terms of runs compared to Sehwag, who shows more variability in his run scores.\n",
        "\n",
        "So, from both IQR method and measuring Standard Deviation we can conclude that Dravid is more consitent then Sehwag"
      ],
      "metadata": {
        "id": "Ag-njhiuN3hR"
      }
    }
  ]
}