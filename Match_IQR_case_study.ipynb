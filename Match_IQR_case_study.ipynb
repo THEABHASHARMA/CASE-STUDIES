{
  "nbformat": 4,
  "nbformat_minor": 0,
  "metadata": {
    "colab": {
      "provenance": [],
      "include_colab_link": true
    },
    "kernelspec": {
      "name": "python3",
      "display_name": "Python 3"
    },
    "language_info": {
      "name": "python"
    }
  },
  "cells": [
    {
      "cell_type": "markdown",
      "metadata": {
        "id": "view-in-github",
        "colab_type": "text"
      },
      "source": [
        "<a href=\"https://colab.research.google.com/github/THEABHASHARMA/CASE-STUDIES/blob/main/Match_IQR_case_study.ipynb\" target=\"_parent\"><img src=\"https://colab.research.google.com/assets/colab-badge.svg\" alt=\"Open In Colab\"/></a>"
      ]
    },
    {
      "cell_type": "markdown",
      "source": [
        "# IQR implementation on a real-life dataset and Compare Sehwag's and Dravid's match performace"
      ],
      "metadata": {
        "id": "NFCY88yvFqFx"
      }
    },
    {
      "cell_type": "markdown",
      "source": [
        "# Problem Statement:\n",
        "When we talk about these two players:\n",
        "\n",
        "Sehwag\n",
        "Rahul Dravid\n",
        "We all know that Sehwag has aggressive batting style\n",
        "\n",
        "While Rahul Dravid plays patiently, with no risk and stands on the crease like a \"Wall\"\n",
        "\n",
        "Let's analyse both of their matches and try to find some insights about their range of scores.\n",
        "\n",
        "We will use IQR here to calculate the range of their scores accurately and will also try to find if they have any \"Outlier\" scores in their careers."
      ],
      "metadata": {
        "id": "qY0Un3Q-FVvr"
      }
    },
    {
      "cell_type": "markdown",
      "source": [
        "# We will conclude that out of these two batsman, who is the more consistent batsman?"
      ],
      "metadata": {
        "id": "bJFWyp8gFx1I"
      }
    },
    {
      "cell_type": "code",
      "source": [
        "import numpy as np\n",
        "import pandas as pd\n",
        "import seaborn as sns\n",
        "import matplotlib.pyplot as plt"
      ],
      "metadata": {
        "id": "0xS6T4NQFtNi"
      },
      "execution_count": null,
      "outputs": []
    },
    {
      "cell_type": "markdown",
      "source": [
        "Let's start with Sehwag's matches"
      ],
      "metadata": {
        "id": "fORaunT2F5Az"
      }
    },
    {
      "cell_type": "code",
      "source": [
        "!wget --no-check-certificate https://drive.google.com/uc?id=1JYyGv7QSb_GkVGan5rnHNrtOg2ewJB_f -O sehwag.csv"
      ],
      "metadata": {
        "colab": {
          "base_uri": "https://localhost:8080/"
        },
        "id": "XIHWAzGIF5lf",
        "outputId": "3143ca65-3fb6-4c1b-ccf9-46b630919788"
      },
      "execution_count": null,
      "outputs": [
        {
          "output_type": "stream",
          "name": "stdout",
          "text": [
            "--2024-04-25 07:10:54--  https://drive.google.com/uc?id=1JYyGv7QSb_GkVGan5rnHNrtOg2ewJB_f\n",
            "Resolving drive.google.com (drive.google.com)... 172.253.62.101, 172.253.62.102, 172.253.62.139, ...\n",
            "Connecting to drive.google.com (drive.google.com)|172.253.62.101|:443... connected.\n",
            "HTTP request sent, awaiting response... 303 See Other\n",
            "Location: https://drive.usercontent.google.com/download?id=1JYyGv7QSb_GkVGan5rnHNrtOg2ewJB_f [following]\n",
            "--2024-04-25 07:10:54--  https://drive.usercontent.google.com/download?id=1JYyGv7QSb_GkVGan5rnHNrtOg2ewJB_f\n",
            "Resolving drive.usercontent.google.com (drive.usercontent.google.com)... 142.250.31.132, 2607:f8b0:4004:c0b::84\n",
            "Connecting to drive.usercontent.google.com (drive.usercontent.google.com)|142.250.31.132|:443... connected.\n",
            "HTTP request sent, awaiting response... 200 OK\n",
            "Length: 18584 (18K) [application/octet-stream]\n",
            "Saving to: ‘sehwag.csv’\n",
            "\n",
            "sehwag.csv          100%[===================>]  18.15K  --.-KB/s    in 0s      \n",
            "\n",
            "2024-04-25 07:10:55 (67.7 MB/s) - ‘sehwag.csv’ saved [18584/18584]\n",
            "\n"
          ]
        }
      ]
    },
    {
      "cell_type": "code",
      "source": [
        "sehwag = pd.read_csv(\"sehwag.csv\")\n",
        "sehwag.head()"
      ],
      "metadata": {
        "colab": {
          "base_uri": "https://localhost:8080/",
          "height": 206
        },
        "id": "eIl6sWEHF-js",
        "outputId": "7b28f410-075e-4d1a-a489-1c4939f7283d"
      },
      "execution_count": null,
      "outputs": [
        {
          "output_type": "execute_result",
          "data": {
            "text/plain": [
              "   Runs Mins  BF  4s  6s      SR  Pos Dismissal  Inns  Unnamed: 9  \\\n",
              "0     1    5   2   0   0   50.00    7       lbw     1         NaN   \n",
              "1    19   18  24   0   1   79.16    6    caught     1         NaN   \n",
              "2    58   62  54   8   0  107.40    6    bowled     1         NaN   \n",
              "3     2    7   7   0   0   28.57    6    caught     2         NaN   \n",
              "4    11   19  16   1   0   68.75    6   not out     2         NaN   \n",
              "\n",
              "      Opposition     Ground   Start Date Unnamed: 13  \n",
              "0     v Pakistan     Mohali   1 Apr 1999  ODI # 1427  \n",
              "1     v Zimbabwe     Rajkot  14 Dec 2000  ODI # 1660  \n",
              "2    v Australia  Bengaluru  25 Mar 2001  ODI # 1696  \n",
              "3     v Zimbabwe   Bulawayo  27 Jun 2001  ODI # 1730  \n",
              "4  v West Indies   Bulawayo  30 Jun 2001  ODI # 1731  "
            ],
            "text/html": [
              "\n",
              "  <div id=\"df-82405854-74ac-41a3-b6e6-029934fc5e52\" class=\"colab-df-container\">\n",
              "    <div>\n",
              "<style scoped>\n",
              "    .dataframe tbody tr th:only-of-type {\n",
              "        vertical-align: middle;\n",
              "    }\n",
              "\n",
              "    .dataframe tbody tr th {\n",
              "        vertical-align: top;\n",
              "    }\n",
              "\n",
              "    .dataframe thead th {\n",
              "        text-align: right;\n",
              "    }\n",
              "</style>\n",
              "<table border=\"1\" class=\"dataframe\">\n",
              "  <thead>\n",
              "    <tr style=\"text-align: right;\">\n",
              "      <th></th>\n",
              "      <th>Runs</th>\n",
              "      <th>Mins</th>\n",
              "      <th>BF</th>\n",
              "      <th>4s</th>\n",
              "      <th>6s</th>\n",
              "      <th>SR</th>\n",
              "      <th>Pos</th>\n",
              "      <th>Dismissal</th>\n",
              "      <th>Inns</th>\n",
              "      <th>Unnamed: 9</th>\n",
              "      <th>Opposition</th>\n",
              "      <th>Ground</th>\n",
              "      <th>Start Date</th>\n",
              "      <th>Unnamed: 13</th>\n",
              "    </tr>\n",
              "  </thead>\n",
              "  <tbody>\n",
              "    <tr>\n",
              "      <th>0</th>\n",
              "      <td>1</td>\n",
              "      <td>5</td>\n",
              "      <td>2</td>\n",
              "      <td>0</td>\n",
              "      <td>0</td>\n",
              "      <td>50.00</td>\n",
              "      <td>7</td>\n",
              "      <td>lbw</td>\n",
              "      <td>1</td>\n",
              "      <td>NaN</td>\n",
              "      <td>v Pakistan</td>\n",
              "      <td>Mohali</td>\n",
              "      <td>1 Apr 1999</td>\n",
              "      <td>ODI # 1427</td>\n",
              "    </tr>\n",
              "    <tr>\n",
              "      <th>1</th>\n",
              "      <td>19</td>\n",
              "      <td>18</td>\n",
              "      <td>24</td>\n",
              "      <td>0</td>\n",
              "      <td>1</td>\n",
              "      <td>79.16</td>\n",
              "      <td>6</td>\n",
              "      <td>caught</td>\n",
              "      <td>1</td>\n",
              "      <td>NaN</td>\n",
              "      <td>v Zimbabwe</td>\n",
              "      <td>Rajkot</td>\n",
              "      <td>14 Dec 2000</td>\n",
              "      <td>ODI # 1660</td>\n",
              "    </tr>\n",
              "    <tr>\n",
              "      <th>2</th>\n",
              "      <td>58</td>\n",
              "      <td>62</td>\n",
              "      <td>54</td>\n",
              "      <td>8</td>\n",
              "      <td>0</td>\n",
              "      <td>107.40</td>\n",
              "      <td>6</td>\n",
              "      <td>bowled</td>\n",
              "      <td>1</td>\n",
              "      <td>NaN</td>\n",
              "      <td>v Australia</td>\n",
              "      <td>Bengaluru</td>\n",
              "      <td>25 Mar 2001</td>\n",
              "      <td>ODI # 1696</td>\n",
              "    </tr>\n",
              "    <tr>\n",
              "      <th>3</th>\n",
              "      <td>2</td>\n",
              "      <td>7</td>\n",
              "      <td>7</td>\n",
              "      <td>0</td>\n",
              "      <td>0</td>\n",
              "      <td>28.57</td>\n",
              "      <td>6</td>\n",
              "      <td>caught</td>\n",
              "      <td>2</td>\n",
              "      <td>NaN</td>\n",
              "      <td>v Zimbabwe</td>\n",
              "      <td>Bulawayo</td>\n",
              "      <td>27 Jun 2001</td>\n",
              "      <td>ODI # 1730</td>\n",
              "    </tr>\n",
              "    <tr>\n",
              "      <th>4</th>\n",
              "      <td>11</td>\n",
              "      <td>19</td>\n",
              "      <td>16</td>\n",
              "      <td>1</td>\n",
              "      <td>0</td>\n",
              "      <td>68.75</td>\n",
              "      <td>6</td>\n",
              "      <td>not out</td>\n",
              "      <td>2</td>\n",
              "      <td>NaN</td>\n",
              "      <td>v West Indies</td>\n",
              "      <td>Bulawayo</td>\n",
              "      <td>30 Jun 2001</td>\n",
              "      <td>ODI # 1731</td>\n",
              "    </tr>\n",
              "  </tbody>\n",
              "</table>\n",
              "</div>\n",
              "    <div class=\"colab-df-buttons\">\n",
              "\n",
              "  <div class=\"colab-df-container\">\n",
              "    <button class=\"colab-df-convert\" onclick=\"convertToInteractive('df-82405854-74ac-41a3-b6e6-029934fc5e52')\"\n",
              "            title=\"Convert this dataframe to an interactive table.\"\n",
              "            style=\"display:none;\">\n",
              "\n",
              "  <svg xmlns=\"http://www.w3.org/2000/svg\" height=\"24px\" viewBox=\"0 -960 960 960\">\n",
              "    <path d=\"M120-120v-720h720v720H120Zm60-500h600v-160H180v160Zm220 220h160v-160H400v160Zm0 220h160v-160H400v160ZM180-400h160v-160H180v160Zm440 0h160v-160H620v160ZM180-180h160v-160H180v160Zm440 0h160v-160H620v160Z\"/>\n",
              "  </svg>\n",
              "    </button>\n",
              "\n",
              "  <style>\n",
              "    .colab-df-container {\n",
              "      display:flex;\n",
              "      gap: 12px;\n",
              "    }\n",
              "\n",
              "    .colab-df-convert {\n",
              "      background-color: #E8F0FE;\n",
              "      border: none;\n",
              "      border-radius: 50%;\n",
              "      cursor: pointer;\n",
              "      display: none;\n",
              "      fill: #1967D2;\n",
              "      height: 32px;\n",
              "      padding: 0 0 0 0;\n",
              "      width: 32px;\n",
              "    }\n",
              "\n",
              "    .colab-df-convert:hover {\n",
              "      background-color: #E2EBFA;\n",
              "      box-shadow: 0px 1px 2px rgba(60, 64, 67, 0.3), 0px 1px 3px 1px rgba(60, 64, 67, 0.15);\n",
              "      fill: #174EA6;\n",
              "    }\n",
              "\n",
              "    .colab-df-buttons div {\n",
              "      margin-bottom: 4px;\n",
              "    }\n",
              "\n",
              "    [theme=dark] .colab-df-convert {\n",
              "      background-color: #3B4455;\n",
              "      fill: #D2E3FC;\n",
              "    }\n",
              "\n",
              "    [theme=dark] .colab-df-convert:hover {\n",
              "      background-color: #434B5C;\n",
              "      box-shadow: 0px 1px 3px 1px rgba(0, 0, 0, 0.15);\n",
              "      filter: drop-shadow(0px 1px 2px rgba(0, 0, 0, 0.3));\n",
              "      fill: #FFFFFF;\n",
              "    }\n",
              "  </style>\n",
              "\n",
              "    <script>\n",
              "      const buttonEl =\n",
              "        document.querySelector('#df-82405854-74ac-41a3-b6e6-029934fc5e52 button.colab-df-convert');\n",
              "      buttonEl.style.display =\n",
              "        google.colab.kernel.accessAllowed ? 'block' : 'none';\n",
              "\n",
              "      async function convertToInteractive(key) {\n",
              "        const element = document.querySelector('#df-82405854-74ac-41a3-b6e6-029934fc5e52');\n",
              "        const dataTable =\n",
              "          await google.colab.kernel.invokeFunction('convertToInteractive',\n",
              "                                                    [key], {});\n",
              "        if (!dataTable) return;\n",
              "\n",
              "        const docLinkHtml = 'Like what you see? Visit the ' +\n",
              "          '<a target=\"_blank\" href=https://colab.research.google.com/notebooks/data_table.ipynb>data table notebook</a>'\n",
              "          + ' to learn more about interactive tables.';\n",
              "        element.innerHTML = '';\n",
              "        dataTable['output_type'] = 'display_data';\n",
              "        await google.colab.output.renderOutput(dataTable, element);\n",
              "        const docLink = document.createElement('div');\n",
              "        docLink.innerHTML = docLinkHtml;\n",
              "        element.appendChild(docLink);\n",
              "      }\n",
              "    </script>\n",
              "  </div>\n",
              "\n",
              "\n",
              "<div id=\"df-39461d98-6718-497d-afe5-2193002ee7b0\">\n",
              "  <button class=\"colab-df-quickchart\" onclick=\"quickchart('df-39461d98-6718-497d-afe5-2193002ee7b0')\"\n",
              "            title=\"Suggest charts\"\n",
              "            style=\"display:none;\">\n",
              "\n",
              "<svg xmlns=\"http://www.w3.org/2000/svg\" height=\"24px\"viewBox=\"0 0 24 24\"\n",
              "     width=\"24px\">\n",
              "    <g>\n",
              "        <path d=\"M19 3H5c-1.1 0-2 .9-2 2v14c0 1.1.9 2 2 2h14c1.1 0 2-.9 2-2V5c0-1.1-.9-2-2-2zM9 17H7v-7h2v7zm4 0h-2V7h2v10zm4 0h-2v-4h2v4z\"/>\n",
              "    </g>\n",
              "</svg>\n",
              "  </button>\n",
              "\n",
              "<style>\n",
              "  .colab-df-quickchart {\n",
              "      --bg-color: #E8F0FE;\n",
              "      --fill-color: #1967D2;\n",
              "      --hover-bg-color: #E2EBFA;\n",
              "      --hover-fill-color: #174EA6;\n",
              "      --disabled-fill-color: #AAA;\n",
              "      --disabled-bg-color: #DDD;\n",
              "  }\n",
              "\n",
              "  [theme=dark] .colab-df-quickchart {\n",
              "      --bg-color: #3B4455;\n",
              "      --fill-color: #D2E3FC;\n",
              "      --hover-bg-color: #434B5C;\n",
              "      --hover-fill-color: #FFFFFF;\n",
              "      --disabled-bg-color: #3B4455;\n",
              "      --disabled-fill-color: #666;\n",
              "  }\n",
              "\n",
              "  .colab-df-quickchart {\n",
              "    background-color: var(--bg-color);\n",
              "    border: none;\n",
              "    border-radius: 50%;\n",
              "    cursor: pointer;\n",
              "    display: none;\n",
              "    fill: var(--fill-color);\n",
              "    height: 32px;\n",
              "    padding: 0;\n",
              "    width: 32px;\n",
              "  }\n",
              "\n",
              "  .colab-df-quickchart:hover {\n",
              "    background-color: var(--hover-bg-color);\n",
              "    box-shadow: 0 1px 2px rgba(60, 64, 67, 0.3), 0 1px 3px 1px rgba(60, 64, 67, 0.15);\n",
              "    fill: var(--button-hover-fill-color);\n",
              "  }\n",
              "\n",
              "  .colab-df-quickchart-complete:disabled,\n",
              "  .colab-df-quickchart-complete:disabled:hover {\n",
              "    background-color: var(--disabled-bg-color);\n",
              "    fill: var(--disabled-fill-color);\n",
              "    box-shadow: none;\n",
              "  }\n",
              "\n",
              "  .colab-df-spinner {\n",
              "    border: 2px solid var(--fill-color);\n",
              "    border-color: transparent;\n",
              "    border-bottom-color: var(--fill-color);\n",
              "    animation:\n",
              "      spin 1s steps(1) infinite;\n",
              "  }\n",
              "\n",
              "  @keyframes spin {\n",
              "    0% {\n",
              "      border-color: transparent;\n",
              "      border-bottom-color: var(--fill-color);\n",
              "      border-left-color: var(--fill-color);\n",
              "    }\n",
              "    20% {\n",
              "      border-color: transparent;\n",
              "      border-left-color: var(--fill-color);\n",
              "      border-top-color: var(--fill-color);\n",
              "    }\n",
              "    30% {\n",
              "      border-color: transparent;\n",
              "      border-left-color: var(--fill-color);\n",
              "      border-top-color: var(--fill-color);\n",
              "      border-right-color: var(--fill-color);\n",
              "    }\n",
              "    40% {\n",
              "      border-color: transparent;\n",
              "      border-right-color: var(--fill-color);\n",
              "      border-top-color: var(--fill-color);\n",
              "    }\n",
              "    60% {\n",
              "      border-color: transparent;\n",
              "      border-right-color: var(--fill-color);\n",
              "    }\n",
              "    80% {\n",
              "      border-color: transparent;\n",
              "      border-right-color: var(--fill-color);\n",
              "      border-bottom-color: var(--fill-color);\n",
              "    }\n",
              "    90% {\n",
              "      border-color: transparent;\n",
              "      border-bottom-color: var(--fill-color);\n",
              "    }\n",
              "  }\n",
              "</style>\n",
              "\n",
              "  <script>\n",
              "    async function quickchart(key) {\n",
              "      const quickchartButtonEl =\n",
              "        document.querySelector('#' + key + ' button');\n",
              "      quickchartButtonEl.disabled = true;  // To prevent multiple clicks.\n",
              "      quickchartButtonEl.classList.add('colab-df-spinner');\n",
              "      try {\n",
              "        const charts = await google.colab.kernel.invokeFunction(\n",
              "            'suggestCharts', [key], {});\n",
              "      } catch (error) {\n",
              "        console.error('Error during call to suggestCharts:', error);\n",
              "      }\n",
              "      quickchartButtonEl.classList.remove('colab-df-spinner');\n",
              "      quickchartButtonEl.classList.add('colab-df-quickchart-complete');\n",
              "    }\n",
              "    (() => {\n",
              "      let quickchartButtonEl =\n",
              "        document.querySelector('#df-39461d98-6718-497d-afe5-2193002ee7b0 button');\n",
              "      quickchartButtonEl.style.display =\n",
              "        google.colab.kernel.accessAllowed ? 'block' : 'none';\n",
              "    })();\n",
              "  </script>\n",
              "</div>\n",
              "\n",
              "    </div>\n",
              "  </div>\n"
            ],
            "application/vnd.google.colaboratory.intrinsic+json": {
              "type": "dataframe",
              "variable_name": "sehwag",
              "summary": "{\n  \"name\": \"sehwag\",\n  \"rows\": 245,\n  \"fields\": [\n    {\n      \"column\": \"Runs\",\n      \"properties\": {\n        \"dtype\": \"number\",\n        \"std\": 34,\n        \"min\": 0,\n        \"max\": 219,\n        \"num_unique_values\": 94,\n        \"samples\": [\n          36,\n          16,\n          17\n        ],\n        \"semantic_type\": \"\",\n        \"description\": \"\"\n      }\n    },\n    {\n      \"column\": \"Mins\",\n      \"properties\": {\n        \"dtype\": \"category\",\n        \"num_unique_values\": 101,\n        \"samples\": [\n          \"93\",\n          \"29\",\n          \"21\"\n        ],\n        \"semantic_type\": \"\",\n        \"description\": \"\"\n      }\n    },\n    {\n      \"column\": \"BF\",\n      \"properties\": {\n        \"dtype\": \"number\",\n        \"std\": 29,\n        \"min\": 1,\n        \"max\": 149,\n        \"num_unique_values\": 80,\n        \"samples\": [\n          26,\n          2,\n          32\n        ],\n        \"semantic_type\": \"\",\n        \"description\": \"\"\n      }\n    },\n    {\n      \"column\": \"4s\",\n      \"properties\": {\n        \"dtype\": \"number\",\n        \"std\": 4,\n        \"min\": 0,\n        \"max\": 25,\n        \"num_unique_values\": 21,\n        \"samples\": [\n          0,\n          12,\n          17\n        ],\n        \"semantic_type\": \"\",\n        \"description\": \"\"\n      }\n    },\n    {\n      \"column\": \"6s\",\n      \"properties\": {\n        \"dtype\": \"number\",\n        \"std\": 1,\n        \"min\": 0,\n        \"max\": 7,\n        \"num_unique_values\": 7,\n        \"samples\": [\n          0,\n          1,\n          6\n        ],\n        \"semantic_type\": \"\",\n        \"description\": \"\"\n      }\n    },\n    {\n      \"column\": \"SR\",\n      \"properties\": {\n        \"dtype\": \"number\",\n        \"std\": 46.83071593364564,\n        \"min\": 0.0,\n        \"max\": 260.0,\n        \"num_unique_values\": 170,\n        \"samples\": [\n          168.91,\n          121.15,\n          87.75\n        ],\n        \"semantic_type\": \"\",\n        \"description\": \"\"\n      }\n    },\n    {\n      \"column\": \"Pos\",\n      \"properties\": {\n        \"dtype\": \"number\",\n        \"std\": 1,\n        \"min\": 1,\n        \"max\": 8,\n        \"num_unique_values\": 8,\n        \"samples\": [\n          6,\n          2,\n          7\n        ],\n        \"semantic_type\": \"\",\n        \"description\": \"\"\n      }\n    },\n    {\n      \"column\": \"Dismissal\",\n      \"properties\": {\n        \"dtype\": \"category\",\n        \"num_unique_values\": 6,\n        \"samples\": [\n          \"lbw\",\n          \"caught\",\n          \"run out\"\n        ],\n        \"semantic_type\": \"\",\n        \"description\": \"\"\n      }\n    },\n    {\n      \"column\": \"Inns\",\n      \"properties\": {\n        \"dtype\": \"number\",\n        \"std\": 0,\n        \"min\": 1,\n        \"max\": 2,\n        \"num_unique_values\": 2,\n        \"samples\": [\n          2,\n          1\n        ],\n        \"semantic_type\": \"\",\n        \"description\": \"\"\n      }\n    },\n    {\n      \"column\": \"Unnamed: 9\",\n      \"properties\": {\n        \"dtype\": \"number\",\n        \"std\": null,\n        \"min\": null,\n        \"max\": null,\n        \"num_unique_values\": 0,\n        \"samples\": [],\n        \"semantic_type\": \"\",\n        \"description\": \"\"\n      }\n    },\n    {\n      \"column\": \"Opposition\",\n      \"properties\": {\n        \"dtype\": \"category\",\n        \"num_unique_values\": 18,\n        \"samples\": [],\n        \"semantic_type\": \"\",\n        \"description\": \"\"\n      }\n    },\n    {\n      \"column\": \"Ground\",\n      \"properties\": {\n        \"dtype\": \"category\",\n        \"num_unique_values\": 74,\n        \"samples\": [],\n        \"semantic_type\": \"\",\n        \"description\": \"\"\n      }\n    },\n    {\n      \"column\": \"Start Date\",\n      \"properties\": {\n        \"dtype\": \"object\",\n        \"num_unique_values\": 245,\n        \"samples\": [],\n        \"semantic_type\": \"\",\n        \"description\": \"\"\n      }\n    },\n    {\n      \"column\": \"Unnamed: 13\",\n      \"properties\": {\n        \"dtype\": \"string\",\n        \"num_unique_values\": 245,\n        \"samples\": [],\n        \"semantic_type\": \"\",\n        \"description\": \"\"\n      }\n    }\n  ]\n}"
            }
          },
          "metadata": {},
          "execution_count": 3
        }
      ]
    },
    {
      "cell_type": "code",
      "source": [
        "sehwag[\"Runs\"].describe()"
      ],
      "metadata": {
        "colab": {
          "base_uri": "https://localhost:8080/"
        },
        "id": "SVSTIUYSGIUd",
        "outputId": "9013c611-051f-4160-ebeb-85a09de7609b"
      },
      "execution_count": null,
      "outputs": [
        {
          "output_type": "execute_result",
          "data": {
            "text/plain": [
              "count    245.000000\n",
              "mean      33.767347\n",
              "std       34.809419\n",
              "min        0.000000\n",
              "25%        8.000000\n",
              "50%       23.000000\n",
              "75%       46.000000\n",
              "max      219.000000\n",
              "Name: Runs, dtype: float64"
            ]
          },
          "metadata": {},
          "execution_count": 4
        }
      ]
    },
    {
      "cell_type": "markdown",
      "source": [
        "We want to find the range of his scores"
      ],
      "metadata": {
        "id": "nvA0KjXMGNgO"
      }
    },
    {
      "cell_type": "code",
      "source": [
        "# So Q1, Q2 and Q3 will be\n",
        "# 25th percentile or Q1\n",
        "p_25 = np.percentile(sehwag[\"Runs\"], 25)\n",
        "\n",
        "#50th percentile or Q2, also \"Median\"\n",
        "p_50 = np.percentile(sehwag[\"Runs\"], 50)\n",
        "\n",
        "\n",
        "#75th percentile or Q3\n",
        "p_75 = np.percentile(sehwag[\"Runs\"], 75)\n",
        "print(p_25, p_50, p_75)"
      ],
      "metadata": {
        "colab": {
          "base_uri": "https://localhost:8080/"
        },
        "id": "tir13zHFGMzN",
        "outputId": "3169bfae-3261-48d7-9225-62b076262108"
      },
      "execution_count": null,
      "outputs": [
        {
          "output_type": "stream",
          "name": "stdout",
          "text": [
            "8.0 23.0 46.0\n"
          ]
        }
      ]
    },
    {
      "cell_type": "markdown",
      "source": [
        "# P_25 = 8.0\n",
        "This value indicates that 25% of all the values present in the dataset for Sehwag's run is less than 8\n",
        "\n",
        "We can also say,\n",
        "\n",
        "Out of all the matches that Shewag played, in 25% of those matches, he scored less than 8 runs.\n",
        "\n",
        "# P_50 = 23.0\n",
        "\n",
        "This indicates that in 50% of the matches, he scored less than 23 runs\n",
        "\n",
        "# P_75=46.0\n",
        "\n",
        "This indicates that in 75% of the matches, he scored less than 46 runs"
      ],
      "metadata": {
        "id": "Qz3UCVf8GiIz"
      }
    },
    {
      "cell_type": "markdown",
      "source": [
        "# IQR\n",
        "\n",
        "We know IQR = Q3 - Q1"
      ],
      "metadata": {
        "id": "1cfjM_mMG4Ds"
      }
    },
    {
      "cell_type": "code",
      "source": [
        "# Inter Quartile Range\n",
        "iqr_sehwag = p_75 - p_25\n",
        "iqr_sehwag"
      ],
      "metadata": {
        "colab": {
          "base_uri": "https://localhost:8080/"
        },
        "id": "deOluyBvG1nL",
        "outputId": "ef8a5af4-5b9b-4fe6-c262-a042f01de0a2"
      },
      "execution_count": null,
      "outputs": [
        {
          "output_type": "execute_result",
          "data": {
            "text/plain": [
              "38.0"
            ]
          },
          "metadata": {},
          "execution_count": 7
        }
      ]
    },
    {
      "cell_type": "code",
      "source": [
        "normal_range = (sehwag[\"Runs\"].max() - sehwag[\"Runs\"].min())\n",
        "\n",
        "normal_range"
      ],
      "metadata": {
        "colab": {
          "base_uri": "https://localhost:8080/"
        },
        "id": "wQV3R5XwHCj2",
        "outputId": "f1c161d9-c15e-4c66-84c0-5e177e0eed32"
      },
      "execution_count": null,
      "outputs": [
        {
          "output_type": "execute_result",
          "data": {
            "text/plain": [
              "219"
            ]
          },
          "metadata": {},
          "execution_count": 8
        }
      ]
    },
    {
      "cell_type": "markdown",
      "source": [
        "We can observe the difference here,\n",
        "\n",
        "IQR is 38 which means that middle 50% of the data lies in the range of 38.\n",
        "\n",
        "So more than 50% of the time, Sehwag scores in the range of 38 runs\n",
        "\n",
        "\n",
        "On the other hand, the normal range is very high i.e. 219 which is certainly not a good range to consider.\n",
        "\n",
        "We can observe one thing that there in an Outlier present in the data means in some matches he has scored so many runs like more than 300 in a single match\n",
        "\n",
        "This is why the range is getting affected by the outlier\n",
        "\n"
      ],
      "metadata": {
        "id": "QBhpsIHJHRII"
      }
    },
    {
      "cell_type": "markdown",
      "source": [
        "# Let's plot the box plot to visualise the spread of the data"
      ],
      "metadata": {
        "id": "pyuEBMvDHTNi"
      }
    },
    {
      "cell_type": "code",
      "source": [
        "sns.boxplot(data=sehwag[\"Runs\"], orient=\"h\")"
      ],
      "metadata": {
        "colab": {
          "base_uri": "https://localhost:8080/",
          "height": 467
        },
        "id": "zaOsRkfbHULc",
        "outputId": "4882d81d-86e6-48b6-d424-d2cace164fa7"
      },
      "execution_count": null,
      "outputs": [
        {
          "output_type": "execute_result",
          "data": {
            "text/plain": [
              "<Axes: xlabel='Runs'>"
            ]
          },
          "metadata": {},
          "execution_count": 12
        },
        {
          "output_type": "display_data",
          "data": {
            "text/plain": [
              "<Figure size 640x480 with 1 Axes>"
            ],
            "image/png": "[encoded data removed]"
          },
          "metadata": {}
        }
      ]
    },
    {
      "cell_type": "markdown",
      "source": [
        "We can see that Q1, Q2, and Q3 values lie within the box and we can also see whiskers on both the sides of box which is the limit.\n",
        "\n",
        "We already saw how to calculate the lower whisker and upper whisker\n",
        "\n",
        "All the values outside the limit are considered \"Outlier\""
      ],
      "metadata": {
        "id": "MFEMV9MZHhO4"
      }
    },
    {
      "cell_type": "code",
      "source": [
        "# upper limit = Q3 + 1.5 * IQR\n",
        "\n",
        "upper = 46 + 1.5*(iqr_sehwag)\n",
        "upper"
      ],
      "metadata": {
        "colab": {
          "base_uri": "https://localhost:8080/"
        },
        "id": "x0hDlJyOHkXr",
        "outputId": "94243b60-f5c7-4ee4-c443-b0ea088f9560"
      },
      "execution_count": null,
      "outputs": [
        {
          "output_type": "execute_result",
          "data": {
            "text/plain": [
              "103.0"
            ]
          },
          "metadata": {},
          "execution_count": 14
        }
      ]
    },
    {
      "cell_type": "markdown",
      "source": [
        "# Note:\n",
        "\n",
        "Here, we cannot have values on the left side of the lower whisker as the batsman cannot score less than 0 runs.\n",
        "\n",
        "So all the outliers will be present on the right side of the upper whisker"
      ],
      "metadata": {
        "id": "Q70AP1xoHqh7"
      }
    },
    {
      "cell_type": "code",
      "source": [
        "# all the values greater than upper is outlier\n",
        "outliers_sehwag = sehwag[sehwag[\"Runs\"]>upper]\n",
        "len(outliers_sehwag)"
      ],
      "metadata": {
        "colab": {
          "base_uri": "https://localhost:8080/"
        },
        "id": "6DZIi10nHyAE",
        "outputId": "2b2b4b76-c5c3-4e8f-c9cf-9dfc6c8d5a2e"
      },
      "execution_count": null,
      "outputs": [
        {
          "output_type": "execute_result",
          "data": {
            "text/plain": [
              "14"
            ]
          },
          "metadata": {},
          "execution_count": 29
        }
      ]
    },
    {
      "cell_type": "code",
      "source": [
        "\n",
        "len(outliers_sehwag)/len(sehwag[\"Runs\"])"
      ],
      "metadata": {
        "colab": {
          "base_uri": "https://localhost:8080/"
        },
        "id": "422TwplUH6ko",
        "outputId": "dd805a46-aca8-413c-e7a8-38a193146930"
      },
      "execution_count": null,
      "outputs": [
        {
          "output_type": "execute_result",
          "data": {
            "text/plain": [
              "0.05714285714285714"
            ]
          },
          "metadata": {},
          "execution_count": 32
        }
      ]
    },
    {
      "cell_type": "markdown",
      "source": [
        "# Conclusion:\n",
        "\n",
        "Here we can observe that 5.7% values from the dataset are outliers.\n",
        "\n",
        "This means we can conclude that 5.7 or ~6% times Sehwag has scored more than the UPPER LIMIT which is 103.0 runs"
      ],
      "metadata": {
        "id": "pi2uaJWEMTxW"
      }
    },
    {
      "cell_type": "markdown",
      "source": [
        "# Now let's have a same process into Dravid's stats"
      ],
      "metadata": {
        "id": "RkHLb8UAMigk"
      }
    },
    {
      "cell_type": "code",
      "source": [
        "!wget --no-check-certificate https://drive.google.com/uc?id=1nrKmOYQNiTqFhMIoAwE00ULKhGhMEVMZ -O dravid.csv"
      ],
      "metadata": {
        "colab": {
          "base_uri": "https://localhost:8080/"
        },
        "id": "BCQJWsliMrPu",
        "outputId": "5b68812a-c4cf-40e0-848c-ae20a341965d"
      },
      "execution_count": null,
      "outputs": [
        {
          "output_type": "stream",
          "name": "stdout",
          "text": [
            "--2024-04-25 07:40:21--  https://drive.google.com/uc?id=1nrKmOYQNiTqFhMIoAwE00ULKhGhMEVMZ\n",
            "Resolving drive.google.com (drive.google.com)... 142.251.167.100, 142.251.167.138, 142.251.167.113, ...\n",
            "Connecting to drive.google.com (drive.google.com)|142.251.167.100|:443... connected.\n",
            "HTTP request sent, awaiting response... 303 See Other\n",
            "Location: https://drive.usercontent.google.com/download?id=1nrKmOYQNiTqFhMIoAwE00ULKhGhMEVMZ [following]\n",
            "--2024-04-25 07:40:21--  https://drive.usercontent.google.com/download?id=1nrKmOYQNiTqFhMIoAwE00ULKhGhMEVMZ\n",
            "Resolving drive.usercontent.google.com (drive.usercontent.google.com)... 142.250.31.132, 2607:f8b0:4004:c0b::84\n",
            "Connecting to drive.usercontent.google.com (drive.usercontent.google.com)|142.250.31.132|:443... connected.\n",
            "HTTP request sent, awaiting response... 200 OK\n",
            "Length: 24177 (24K) [application/octet-stream]\n",
            "Saving to: ‘dravid.csv’\n",
            "\n",
            "dravid.csv          100%[===================>]  23.61K  --.-KB/s    in 0s      \n",
            "\n",
            "2024-04-25 07:40:22 (101 MB/s) - ‘dravid.csv’ saved [24177/24177]\n",
            "\n"
          ]
        }
      ]
    },
    {
      "cell_type": "code",
      "source": [
        "dravid = pd.read_csv(\"dravid.csv\")"
      ],
      "metadata": {
        "id": "7oVLNjopMthy"
      },
      "execution_count": null,
      "outputs": []
    },
    {
      "cell_type": "code",
      "source": [
        "dravid[\"Runs\"].describe()"
      ],
      "metadata": {
        "colab": {
          "base_uri": "https://localhost:8080/"
        },
        "id": "a3RWZfLYMv3y",
        "outputId": "d0b61aad-13a5-4113-8a69-ecc20a3a35e5"
      },
      "execution_count": null,
      "outputs": [
        {
          "output_type": "execute_result",
          "data": {
            "text/plain": [
              "count    318.000000\n",
              "mean      34.242138\n",
              "std       29.681822\n",
              "min        0.000000\n",
              "25%       10.000000\n",
              "50%       26.000000\n",
              "75%       54.000000\n",
              "max      153.000000\n",
              "Name: Runs, dtype: float64"
            ]
          },
          "metadata": {},
          "execution_count": 35
        }
      ]
    },
    {
      "cell_type": "code",
      "source": [
        "#25th percentile or Q1\n",
        "per_25 = np.percentile(dravid[\"Runs\"], 25)\n",
        "\n",
        "\n",
        "#50th percentile or Q2 , also \"Median\"\n",
        "per_50 = np.percentile(dravid[\"Runs\"], 50)\n",
        "\n",
        "\n",
        "#75th percentile or Q3\n",
        "per_75 = np.percentile(dravid[\"Runs\"], 75)\n",
        "per_75\n",
        "\n",
        "print(p_25,p_50,p_75)"
      ],
      "metadata": {
        "colab": {
          "base_uri": "https://localhost:8080/"
        },
        "id": "hojHR0TBMyF-",
        "outputId": "48315809-1246-4e38-db63-f68fa90fba9a"
      },
      "execution_count": null,
      "outputs": [
        {
          "output_type": "stream",
          "name": "stdout",
          "text": [
            "8.0 23.0 46.0\n"
          ]
        }
      ]
    },
    {
      "cell_type": "markdown",
      "source": [
        "# p_25\n",
        "This indicates that in 25% of the matches, he scored less than 10 runs\n",
        "\n",
        "# p_50\n",
        "This indicates that in 50% of the matches, he scored less than 26 runs\n",
        "\n",
        "# p_75\n",
        "This indicates that in 75% of the matches, he scored less than 54 runs"
      ],
      "metadata": {
        "id": "ZcRw0UXgM5-d"
      }
    },
    {
      "cell_type": "markdown",
      "source": [
        "# IQR"
      ],
      "metadata": {
        "id": "GoD-ek6uNEzH"
      }
    },
    {
      "cell_type": "code",
      "source": [
        "# Inter Quartile Range\n",
        "iqr_dravid = per_75 - per_25\n",
        "iqr_dravid"
      ],
      "metadata": {
        "colab": {
          "base_uri": "https://localhost:8080/"
        },
        "id": "8GDWJjXEND2M",
        "outputId": "8adc6248-d9c4-4e84-eccd-fb5a041f9062"
      },
      "execution_count": null,
      "outputs": [
        {
          "output_type": "execute_result",
          "data": {
            "text/plain": [
              "44.0"
            ]
          },
          "metadata": {},
          "execution_count": 38
        }
      ]
    },
    {
      "cell_type": "code",
      "source": [
        "normal_range = (dravid[\"Runs\"].max() - dravid[\"Runs\"].min())\n",
        "\n",
        "normal_range"
      ],
      "metadata": {
        "colab": {
          "base_uri": "https://localhost:8080/"
        },
        "id": "7_x1SKTHNJuw",
        "outputId": "a570e631-b308-41fa-bb62-d3b32a80dbf1"
      },
      "execution_count": null,
      "outputs": [
        {
          "output_type": "execute_result",
          "data": {
            "text/plain": [
              "153"
            ]
          },
          "metadata": {},
          "execution_count": 39
        }
      ]
    },
    {
      "cell_type": "markdown",
      "source": [
        "We can observe the difference here,\n",
        "\n",
        "IQR is 44 which means that middle 50% of the data lies in the range of 44.\n",
        "\n",
        "So more than 50% of the time, David scores in the range of 44 runs\n",
        "\n",
        "On the other hand, the normal range is very high i.e. 153 which is certainly not a good range to consider.\n",
        "\n",
        "\n",
        "This is why the range is getting affected by the outlier"
      ],
      "metadata": {
        "id": "UqC9VWT8OID0"
      }
    },
    {
      "cell_type": "markdown",
      "source": [
        "# BOXPLOT"
      ],
      "metadata": {
        "id": "RjQkZM_zOTB5"
      }
    },
    {
      "cell_type": "code",
      "source": [
        " sns.boxplot(data=dravid[\"Runs\"], orient=\"h\")"
      ],
      "metadata": {
        "colab": {
          "base_uri": "https://localhost:8080/",
          "height": 467
        },
        "id": "BtZFsxzHNMDN",
        "outputId": "a67fb5d9-7314-45d1-dc54-61af41a181a5"
      },
      "execution_count": null,
      "outputs": [
        {
          "output_type": "execute_result",
          "data": {
            "text/plain": [
              "<Axes: xlabel='Runs'>"
            ]
          },
          "metadata": {},
          "execution_count": 40
        },
        {
          "output_type": "display_data",
          "data": {
            "text/plain": [
              "<Figure size 640x480 with 1 Axes>"
            ],
            "image/png": "[encoded data removed]"
          },
          "metadata": {}
        }
      ]
    },
    {
      "cell_type": "code",
      "source": [
        "# upper limit = Q3 + 1.5 * IQR\n",
        "\n",
        "upper_dravid = per_75 + 1.5*(iqr_dravid)\n",
        "upper_dravid"
      ],
      "metadata": {
        "colab": {
          "base_uri": "https://localhost:8080/"
        },
        "id": "Av2skO9_NOQ3",
        "outputId": "5a79206c-786b-4702-f0d1-c00ce0f3ff15"
      },
      "execution_count": null,
      "outputs": [
        {
          "output_type": "execute_result",
          "data": {
            "text/plain": [
              "120.0"
            ]
          },
          "metadata": {},
          "execution_count": 41
        }
      ]
    },
    {
      "cell_type": "code",
      "source": [
        "# all the values greater than upper is outlier\n",
        "outliers_dravid = dravid[dravid[\"Runs\"]>upper_dravid]\n",
        "len(outliers_dravid)/len(dravid)"
      ],
      "metadata": {
        "colab": {
          "base_uri": "https://localhost:8080/"
        },
        "id": "rgQAYunPNQX_",
        "outputId": "70c0408d-1d84-49ed-e7ce-81233e6bf7d5"
      },
      "execution_count": null,
      "outputs": [
        {
          "output_type": "execute_result",
          "data": {
            "text/plain": [
              "0.009433962264150943"
            ]
          },
          "metadata": {},
          "execution_count": 42
        }
      ]
    },
    {
      "cell_type": "markdown",
      "source": [
        "# Conclusion\n",
        "Here we can observe that 0.9% values from the dataset are outliers.\n",
        "\n",
        "This means we can conclude that 0.9% times Dravid has scored more than the IQR which is 44 runs\n",
        "\n",
        "\n",
        "So we can conclude that in Sehwag case there is 6% outliers and in Dravid's case there are only 0.9% outliers\n",
        "\n",
        "# which shows that \"**Dravid was more consistent than Sehwag\"**\n",
        "\n"
      ],
      "metadata": {
        "id": "XYQ3hegENXRq"
      }
    },
    {
      "cell_type": "markdown",
      "source": [
        "# Now let's calculate the standard deviation through which we can measure the amount of variation or dispersion in runs scored by Sachin and Dravid-"
      ],
      "metadata": {
        "id": "KQOMOkg7NkBD"
      }
    },
    {
      "cell_type": "code",
      "source": [
        "std_dev_sehwag = np.std(sehwag[\"Runs\"])\n",
        "\n",
        "print(\"The amount of variations in runs scored by sehwag is:\",std_dev_sehwag)"
      ],
      "metadata": {
        "colab": {
          "base_uri": "https://localhost:8080/"
        },
        "id": "8faqHDoQNoDa",
        "outputId": "74ba15a2-ebca-406b-bdd7-732bb9fb784b"
      },
      "execution_count": null,
      "outputs": [
        {
          "output_type": "stream",
          "name": "stdout",
          "text": [
            "The amount of variations in runs scored by sehwag is: 34.73830672594385\n"
          ]
        }
      ]
    },
    {
      "cell_type": "code",
      "source": [
        "std_dev_dravid = np.std(dravid[\"Runs\"])\n",
        "\n",
        "print(\"The amount of variations in runs scored by dravid is:\",std_dev_dravid)"
      ],
      "metadata": {
        "id": "A368tjvqNuso"
      },
      "execution_count": null,
      "outputs": []
    },
    {
      "cell_type": "markdown",
      "source": [
        "Lower standard deviation indicates less variability in the batsman's performance.\n",
        "\n",
        "For Sehwag:\n",
        "\n",
        "Standard Deviation of Runs: 34.74.\n",
        "For Dravid:\n",
        "\n",
        "Standard Deviation of Runs: 29.64"
      ],
      "metadata": {
        "id": "ya8pdhg3NyXy"
      }
    },
    {
      "cell_type": "markdown",
      "source": [
        "# Conclusion:\n",
        "\n",
        "Dravid has a lower standard deviation compared to Sehwag.\n",
        "\n",
        "This suggests that Dravid's run scores are more consistent or less variable than Sehwag's.\n",
        "\n",
        "In other words, Dravid tends to have a more stable performance in terms of runs compared to Sehwag, who shows more variability in his run scores.\n",
        "\n",
        "So, from both IQR method and measuring Standard Deviation we can conclude that Dravid is more consitent then Sehwag"
      ],
      "metadata": {
        "id": "Ag-njhiuN3hR"
      }
    },
    {
      "cell_type": "markdown",
      "source": [
        "![1_0MPDTLn8KoLApoFvI0P2vQ.png](data:image/png;base64,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)"
      ],
      "metadata": {
        "id": "18J77l82D4xX"
      }
    }
  ]
}